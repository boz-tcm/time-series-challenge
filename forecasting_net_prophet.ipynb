{
 "cells": [
  {
   "cell_type": "markdown",
   "metadata": {},
   "source": [
    "# Forecasting Net Prophet\n",
    "\n",
    "You’re a growth analyst at [MercadoLibre](http://investor.mercadolibre.com/investor-relations). With over 200 million users, MercadoLibre is the most popular e-commerce site in Latin America. You've been tasked with analyzing the company's financial and user data in clever ways to make the company grow. So, you want to find out if the ability to predict search traffic can translate into the ability to successfully trade the stock.\n",
    "\n",
    "Instructions\n",
    "\n",
    "This section divides the instructions for this Challenge into four steps and an optional fifth step, as follows:\n",
    "\n",
    "* Step 1: Find unusual patterns in hourly Google search traffic\n",
    "\n",
    "* Step 2: Mine the search traffic data for seasonality\n",
    "\n",
    "* Step 3: Relate the search traffic to stock price patterns\n",
    "\n",
    "* Step 4: Create a time series model with Prophet\n",
    "\n",
    "* Step 5 (optional): Forecast revenue by using time series models\n",
    "\n",
    "The following subsections detail these steps.\n",
    "\n",
    "## Step 1: Find Unusual Patterns in Hourly Google Search Traffic\n",
    "\n",
    "The data science manager asks if the Google search traffic for the company links to any financial events at the company. Or, does the search traffic data just present random noise? To answer this question, pick out any unusual patterns in the Google search data for the company, and connect them to the corporate financial events.\n",
    "\n",
    "To do so, complete the following steps:\n",
    "\n",
    "1. Read the search data into a DataFrame, and then slice the data to just the month of May 2020. (During this month, MercadoLibre released its quarterly financial results.) Use hvPlot to visualize the results. Do any unusual patterns exist?\n",
    "\n",
    "2. Calculate the total search traffic for the month, and then compare the value to the monthly median across all months. Did the Google search traffic increase during the month that MercadoLibre released its financial results?\n",
    "\n",
    "## Step 2: Mine the Search Traffic Data for Seasonality\n",
    "\n",
    "Marketing realizes that they can use the hourly search data, too. If they can track and predict interest in the company and its platform for any time of day, they can focus their marketing efforts around the times that have the most traffic. This will get a greater return on investment (ROI) from their marketing budget.\n",
    "\n",
    "To that end, you want to mine the search traffic data for predictable seasonal patterns of interest in the company. To do so, complete the following steps:\n",
    "\n",
    "1. Group the hourly search data to plot the average traffic by the day of the week (for example, Monday vs. Friday).\n",
    "\n",
    "2. Using hvPlot, visualize this traffic as a heatmap, referencing the `index.hour` as the x-axis and the `index.dayofweek` as the y-axis. Does any day-of-week effect that you observe concentrate in just a few hours of that day?\n",
    "\n",
    "3. Group the search data by the week of the year. Does the search traffic tend to increase during the winter holiday period (weeks 40 through 52)?\n",
    "\n",
    "## Step 3: Relate the Search Traffic to Stock Price Patterns\n",
    "\n",
    "You mention your work on the search traffic data during a meeting with people in the finance group at the company. They want to know if any relationship between the search data and the company stock price exists, and they ask if you can investigate.\n",
    "\n",
    "To do so, complete the following steps:\n",
    "\n",
    "1. Read in and plot the stock price data. Concatenate the stock price data to the search data in a single DataFrame.\n",
    "\n",
    "2. Market events emerged during the year of 2020 that many companies found difficult. But, after the initial shock to global financial markets, new customers and revenue increased for e-commerce platforms. Slice the data to just the first half of 2020 (`2020-01` to `2020-06` in the DataFrame), and then use hvPlot to plot the data. Do both time series indicate a common trend that’s consistent with this narrative?\n",
    "\n",
    "3. Create a new column in the DataFrame named “Lagged Search Trends” that offsets, or shifts, the search traffic by one hour. Create two additional columns:\n",
    "\n",
    "    * “Stock Volatility”, which holds an exponentially weighted four-hour rolling average of the company’s stock volatility\n",
    "\n",
    "    * “Hourly Stock Return”, which holds the percent change of the company's stock price on an hourly basis\n",
    "\n",
    "4. Review the time series correlation, and then answer the following question: Does a predictable relationship exist between the lagged search traffic and the stock volatility or between the lagged search traffic and the stock price returns?\n",
    "\n",
    "## Step 4: Create a Time Series Model with Prophet\n",
    "\n",
    "Now, you need to produce a time series model that analyzes and forecasts patterns in the hourly search data. To do so, complete the following steps:\n",
    "\n",
    "1. Set up the Google search data for a Prophet forecasting model.\n",
    "\n",
    "2. After estimating the model, plot the forecast. How's the near-term forecast for the popularity of MercadoLibre?\n",
    "\n",
    "3. Plot the individual time series components of the model to answer the following questions:\n",
    "\n",
    "    * What time of day exhibits the greatest popularity?\n",
    "\n",
    "    * Which day of the week gets the most search traffic?\n",
    "\n",
    "    * What's the lowest point for search traffic in the calendar year?\n",
    "\n",
    "## Step 5 (Optional): Forecast Revenue by Using Time Series Models\n",
    "\n",
    "A few weeks after your initial analysis, the finance group follows up to find out if you can help them solve a different problem. Your fame as a growth analyst in the company continues to grow!\n",
    "\n",
    "Specifically, the finance group wants a forecast of the total sales for the next quarter. This will dramatically increase their ability to plan budgets and to help guide expectations for the company investors.\n",
    "\n",
    "To do so, complete the following steps:\n",
    "\n",
    "1. Read in the daily historical sales (that is, revenue) figures, and then apply a Prophet model to the data.\n",
    "\n",
    "2. Interpret the model output to identify any seasonal patterns in the company's revenue. For example, what are the peak revenue days? (Mondays? Fridays? Something else?)\n",
    "\n",
    "3. Produce a sales forecast for the finance group. Give them a number for the expected total sales in the next quarter. Include the best- and worst-case scenarios to help them make better plans.\n"
   ]
  },
  {
   "cell_type": "markdown",
   "metadata": {},
   "source": [
    "## Install and import the required libraries and dependencies"
   ]
  },
  {
   "cell_type": "code",
   "execution_count": null,
   "metadata": {},
   "outputs": [],
   "source": [
    "# Install and set up required libraries locally in terminal 'dev2' environment:\n",
    "# Using VS Code IDE instead of Google Colab to minimize privacy and data sharing concerns\n",
    "# Used 'conda install -c conda-forge prophet' in local terminal for this Module 11 assignment\n",
    "# Used 'conda install -c conda-forge pystan' in local terminal for this Module 11 assignment\n",
    "# Used 'pip install plotly' in local terminal for this Module 11 assignment\n",
    "# Installed hvplot locally in earlier Module assignment => already available\n",
    "# Installed holoviews locally in earlier Module assignment => already available\n",
    "\n",
    "# Declined to use Google Colab Cloud environment due to data sharing and privacy concerns, and\n",
    "# therefore, declined to run these commands within Google Colab Cloud:\n",
    "#!pip install pystan\n",
    "#!pip install prophet\n",
    "#!pip install hvplot\n",
    "#!pip install holoviews"
   ]
  },
  {
   "cell_type": "code",
   "execution_count": 2,
   "metadata": {},
   "outputs": [],
   "source": [
    "# Import the required libraries and dependencies\n",
    "import pandas as pd\n",
    "import holoviews as hv\n",
    "from prophet import Prophet\n",
    "import hvplot.pandas\n",
    "import datetime as dt\n",
    "%matplotlib inline"
   ]
  },
  {
   "cell_type": "markdown",
   "metadata": {},
   "source": [
    "## Step 1: Find Unusual Patterns in Hourly Google Search Traffic\n",
    "\n",
    "The data science manager asks if the Google search traffic for the company links to any financial events at the company. Or, does the search traffic data just present random noise? To answer this question, pick out any unusual patterns in the Google search data for the company, and connect them to the corporate financial events.\n",
    "\n",
    "To do so, complete the following steps:\n",
    "\n",
    "1. Read the search data into a DataFrame, and then slice the data to just the month of May 2020. (During this month, MercadoLibre released its quarterly financial results.) Use hvPlot to visualize the results. Do any unusual patterns exist?\n",
    "\n",
    "2. Calculate the total search traffic for the month, and then compare the value to the monthly median across all months. Did the Google search traffic increase during the month that MercadoLibre released its financial results?\n"
   ]
  },
  {
   "cell_type": "markdown",
   "metadata": {},
   "source": [
    "#### Step 1: Read the search data into a DataFrame, and then slice the data to just the month of May 2020. (During this month, MercadoLibre released its quarterly financial results.) Use hvPlot to visualize the results. Do any unusual patterns exist?"
   ]
  },
  {
   "cell_type": "code",
   "execution_count": 6,
   "metadata": {},
   "outputs": [
    {
     "name": "stdout",
     "output_type": "stream",
     "text": [
      "<class 'pandas.core.frame.DataFrame'>\n",
      "DatetimeIndex: 37106 entries, 2016-06-01 00:00:00 to 2020-09-08 00:00:00\n",
      "Data columns (total 1 columns):\n",
      " #   Column         Non-Null Count  Dtype\n",
      "---  ------         --------------  -----\n",
      " 0   Search Trends  37106 non-null  int64\n",
      "dtypes: int64(1)\n",
      "memory usage: 579.8 KB\n"
     ]
    },
    {
     "data": {
      "text/plain": [
       "None"
      ]
     },
     "metadata": {},
     "output_type": "display_data"
    },
    {
     "data": {
      "text/html": [
       "<div>\n",
       "<style scoped>\n",
       "    .dataframe tbody tr th:only-of-type {\n",
       "        vertical-align: middle;\n",
       "    }\n",
       "\n",
       "    .dataframe tbody tr th {\n",
       "        vertical-align: top;\n",
       "    }\n",
       "\n",
       "    .dataframe thead th {\n",
       "        text-align: right;\n",
       "    }\n",
       "</style>\n",
       "<table border=\"1\" class=\"dataframe\">\n",
       "  <thead>\n",
       "    <tr style=\"text-align: right;\">\n",
       "      <th></th>\n",
       "      <th>Search Trends</th>\n",
       "    </tr>\n",
       "    <tr>\n",
       "      <th>Date</th>\n",
       "      <th></th>\n",
       "    </tr>\n",
       "  </thead>\n",
       "  <tbody>\n",
       "    <tr>\n",
       "      <th>2016-06-01 00:00:00</th>\n",
       "      <td>97</td>\n",
       "    </tr>\n",
       "    <tr>\n",
       "      <th>2016-06-01 01:00:00</th>\n",
       "      <td>92</td>\n",
       "    </tr>\n",
       "    <tr>\n",
       "      <th>2016-06-01 02:00:00</th>\n",
       "      <td>76</td>\n",
       "    </tr>\n",
       "    <tr>\n",
       "      <th>2016-06-01 03:00:00</th>\n",
       "      <td>60</td>\n",
       "    </tr>\n",
       "    <tr>\n",
       "      <th>2016-06-01 04:00:00</th>\n",
       "      <td>38</td>\n",
       "    </tr>\n",
       "    <tr>\n",
       "      <th>...</th>\n",
       "      <td>...</td>\n",
       "    </tr>\n",
       "    <tr>\n",
       "      <th>2020-09-07 20:00:00</th>\n",
       "      <td>71</td>\n",
       "    </tr>\n",
       "    <tr>\n",
       "      <th>2020-09-07 21:00:00</th>\n",
       "      <td>83</td>\n",
       "    </tr>\n",
       "    <tr>\n",
       "      <th>2020-09-07 22:00:00</th>\n",
       "      <td>96</td>\n",
       "    </tr>\n",
       "    <tr>\n",
       "      <th>2020-09-07 23:00:00</th>\n",
       "      <td>97</td>\n",
       "    </tr>\n",
       "    <tr>\n",
       "      <th>2020-09-08 00:00:00</th>\n",
       "      <td>96</td>\n",
       "    </tr>\n",
       "  </tbody>\n",
       "</table>\n",
       "<p>37106 rows × 1 columns</p>\n",
       "</div>"
      ],
      "text/plain": [
       "                     Search Trends\n",
       "Date                              \n",
       "2016-06-01 00:00:00             97\n",
       "2016-06-01 01:00:00             92\n",
       "2016-06-01 02:00:00             76\n",
       "2016-06-01 03:00:00             60\n",
       "2016-06-01 04:00:00             38\n",
       "...                            ...\n",
       "2020-09-07 20:00:00             71\n",
       "2020-09-07 21:00:00             83\n",
       "2020-09-07 22:00:00             96\n",
       "2020-09-07 23:00:00             97\n",
       "2020-09-08 00:00:00             96\n",
       "\n",
       "[37106 rows x 1 columns]"
      ]
     },
     "metadata": {},
     "output_type": "display_data"
    }
   ],
   "source": [
    "# Upload the \"google_hourly_search_trends.csv\" file into a Pandas DataFrame\n",
    "# Set the \"Date\" column as the Datetime Index.\n",
    "# 'Parse_dates = True' will parse the index as a date.  If datetime object is in another field(s), must pass such field(s) as list into 'Parse_dates' argument.  Here, the 'Date' field is assigned to the index.\n",
    "df_mercado_trends = pd.read_csv('Resources/google_hourly_search_trends.csv', index_col = 'Date', parse_dates = True)\n",
    "\n",
    "# Review information for the DataFrame along with the first and last five rows of the DataFrame\n",
    "display(df_mercado_trends.info())\n",
    "display(df_mercado_trends)\n"
   ]
  },
  {
   "cell_type": "code",
   "execution_count": 9,
   "metadata": {},
   "outputs": [
    {
     "name": "stdout",
     "output_type": "stream",
     "text": [
      "<class 'pandas.core.frame.DataFrame'>\n",
      "DatetimeIndex: 37106 entries, 2016-06-01 00:00:00 to 2020-09-08 00:00:00\n",
      "Data columns (total 1 columns):\n",
      " #   Column         Non-Null Count  Dtype\n",
      "---  ------         --------------  -----\n",
      " 0   Search Trends  37106 non-null  int64\n",
      "dtypes: int64(1)\n",
      "memory usage: 579.8 KB\n"
     ]
    },
    {
     "data": {
      "text/plain": [
       "None"
      ]
     },
     "metadata": {},
     "output_type": "display_data"
    }
   ],
   "source": [
    "# Review the data types of the DataFrame using the info function\n",
    "display(df_mercado_trends.info())\n"
   ]
  },
  {
   "cell_type": "code",
   "execution_count": 58,
   "metadata": {},
   "outputs": [
    {
     "data": {},
     "metadata": {},
     "output_type": "display_data"
    },
    {
     "data": {
      "application/vnd.holoviews_exec.v0+json": "",
      "text/html": [
       "<div id='p28920'>\n",
       "  <div id=\"fcf38b3c-173d-4e4b-b747-3d0614ff9d87\" data-root-id=\"p28920\" style=\"display: contents;\"></div>\n",
       "</div>\n",
       "<script type=\"application/javascript\">(function(root) {\n",
       "  var docs_json = {\"5058622a-fd87-4dec-accd-2b252b573349\":{\"version\":\"3.1.1\",\"title\":\"Bokeh Application\",\"defs\":[{\"type\":\"model\",\"name\":\"ReactiveHTML1\"},{\"type\":\"model\",\"name\":\"FlexBox1\",\"properties\":[{\"name\":\"align_content\",\"kind\":\"Any\",\"default\":\"flex-start\"},{\"name\":\"align_items\",\"kind\":\"Any\",\"default\":\"flex-start\"},{\"name\":\"flex_direction\",\"kind\":\"Any\",\"default\":\"row\"},{\"name\":\"flex_wrap\",\"kind\":\"Any\",\"default\":\"wrap\"},{\"name\":\"justify_content\",\"kind\":\"Any\",\"default\":\"flex-start\"}]},{\"type\":\"model\",\"name\":\"FloatPanel1\",\"properties\":[{\"name\":\"config\",\"kind\":\"Any\",\"default\":{\"type\":\"map\"}},{\"name\":\"contained\",\"kind\":\"Any\",\"default\":true},{\"name\":\"position\",\"kind\":\"Any\",\"default\":\"right-top\"},{\"name\":\"offsetx\",\"kind\":\"Any\",\"default\":null},{\"name\":\"offsety\",\"kind\":\"Any\",\"default\":null},{\"name\":\"theme\",\"kind\":\"Any\",\"default\":\"primary\"},{\"name\":\"status\",\"kind\":\"Any\",\"default\":\"normalized\"}]},{\"type\":\"model\",\"name\":\"GridStack1\",\"properties\":[{\"name\":\"mode\",\"kind\":\"Any\",\"default\":\"warn\"},{\"name\":\"ncols\",\"kind\":\"Any\",\"default\":null},{\"name\":\"nrows\",\"kind\":\"Any\",\"default\":null},{\"name\":\"allow_resize\",\"kind\":\"Any\",\"default\":true},{\"name\":\"allow_drag\",\"kind\":\"Any\",\"default\":true},{\"name\":\"state\",\"kind\":\"Any\",\"default\":[]}]},{\"type\":\"model\",\"name\":\"drag1\",\"properties\":[{\"name\":\"slider_width\",\"kind\":\"Any\",\"default\":5},{\"name\":\"slider_color\",\"kind\":\"Any\",\"default\":\"black\"},{\"name\":\"value\",\"kind\":\"Any\",\"default\":50}]},{\"type\":\"model\",\"name\":\"click1\",\"properties\":[{\"name\":\"terminal_output\",\"kind\":\"Any\",\"default\":\"\"},{\"name\":\"debug_name\",\"kind\":\"Any\",\"default\":\"\"},{\"name\":\"clears\",\"kind\":\"Any\",\"default\":0}]},{\"type\":\"model\",\"name\":\"FastWrapper1\",\"properties\":[{\"name\":\"object\",\"kind\":\"Any\",\"default\":null},{\"name\":\"style\",\"kind\":\"Any\",\"default\":null}]},{\"type\":\"model\",\"name\":\"NotificationAreaBase1\",\"properties\":[{\"name\":\"position\",\"kind\":\"Any\",\"default\":\"bottom-right\"},{\"name\":\"_clear\",\"kind\":\"Any\",\"default\":0}]},{\"type\":\"model\",\"name\":\"NotificationArea1\",\"properties\":[{\"name\":\"notifications\",\"kind\":\"Any\",\"default\":[]},{\"name\":\"position\",\"kind\":\"Any\",\"default\":\"bottom-right\"},{\"name\":\"_clear\",\"kind\":\"Any\",\"default\":0},{\"name\":\"types\",\"kind\":\"Any\",\"default\":[{\"type\":\"map\",\"entries\":[[\"type\",\"warning\"],[\"background\",\"#ffc107\"],[\"icon\",{\"type\":\"map\",\"entries\":[[\"className\",\"fas fa-exclamation-triangle\"],[\"tagName\",\"i\"],[\"color\",\"white\"]]}]]},{\"type\":\"map\",\"entries\":[[\"type\",\"info\"],[\"background\",\"#007bff\"],[\"icon\",{\"type\":\"map\",\"entries\":[[\"className\",\"fas fa-info-circle\"],[\"tagName\",\"i\"],[\"color\",\"white\"]]}]]}]}]},{\"type\":\"model\",\"name\":\"Notification\",\"properties\":[{\"name\":\"background\",\"kind\":\"Any\",\"default\":null},{\"name\":\"duration\",\"kind\":\"Any\",\"default\":3000},{\"name\":\"icon\",\"kind\":\"Any\",\"default\":null},{\"name\":\"message\",\"kind\":\"Any\",\"default\":\"\"},{\"name\":\"notification_type\",\"kind\":\"Any\",\"default\":null},{\"name\":\"_destroyed\",\"kind\":\"Any\",\"default\":false}]},{\"type\":\"model\",\"name\":\"TemplateActions1\",\"properties\":[{\"name\":\"open_modal\",\"kind\":\"Any\",\"default\":0},{\"name\":\"close_modal\",\"kind\":\"Any\",\"default\":0}]},{\"type\":\"model\",\"name\":\"BootstrapTemplateActions1\",\"properties\":[{\"name\":\"open_modal\",\"kind\":\"Any\",\"default\":0},{\"name\":\"close_modal\",\"kind\":\"Any\",\"default\":0}]},{\"type\":\"model\",\"name\":\"MaterialTemplateActions1\",\"properties\":[{\"name\":\"open_modal\",\"kind\":\"Any\",\"default\":0},{\"name\":\"close_modal\",\"kind\":\"Any\",\"default\":0}]}],\"roots\":[{\"type\":\"object\",\"name\":\"Row\",\"id\":\"p28920\",\"attributes\":{\"name\":\"Row269063\",\"tags\":[\"embedded\"],\"stylesheets\":[\"\\n:host(.pn-loading.pn-arc):before, .pn-loading.pn-arc:before {\\n  background-image: url(\\\"data:image/svg+xml;base64,PHN2ZyB4bWxucz0iaHR0cDovL3d3dy53My5vcmcvMjAwMC9zdmciIHN0eWxlPSJtYXJnaW46IGF1dG87IGJhY2tncm91bmQ6IG5vbmU7IGRpc3BsYXk6IGJsb2NrOyBzaGFwZS1yZW5kZXJpbmc6IGF1dG87IiB2aWV3Qm94PSIwIDAgMTAwIDEwMCIgcHJlc2VydmVBc3BlY3RSYXRpbz0ieE1pZFlNaWQiPiAgPGNpcmNsZSBjeD0iNTAiIGN5PSI1MCIgZmlsbD0ibm9uZSIgc3Ryb2tlPSIjYzNjM2MzIiBzdHJva2Utd2lkdGg9IjEwIiByPSIzNSIgc3Ryb2tlLWRhc2hhcnJheT0iMTY0LjkzMzYxNDMxMzQ2NDE1IDU2Ljk3Nzg3MTQzNzgyMTM4Ij4gICAgPGFuaW1hdGVUcmFuc2Zvcm0gYXR0cmlidXRlTmFtZT0idHJhbnNmb3JtIiB0eXBlPSJyb3RhdGUiIHJlcGVhdENvdW50PSJpbmRlZmluaXRlIiBkdXI9IjFzIiB2YWx1ZXM9IjAgNTAgNTA7MzYwIDUwIDUwIiBrZXlUaW1lcz0iMDsxIj48L2FuaW1hdGVUcmFuc2Zvcm0+ICA8L2NpcmNsZT48L3N2Zz4=\\\");\\n  background-size: auto calc(min(50%, 400px));\\n}\",{\"type\":\"object\",\"name\":\"ImportedStyleSheet\",\"id\":\"p28923\",\"attributes\":{\"url\":\"https://cdn.holoviz.org/panel/1.1.1/dist/css/loading.css\"}},{\"type\":\"object\",\"name\":\"ImportedStyleSheet\",\"id\":\"p29084\",\"attributes\":{\"url\":\"https://cdn.holoviz.org/panel/1.1.1/dist/css/listpanel.css\"}},{\"type\":\"object\",\"name\":\"ImportedStyleSheet\",\"id\":\"p28921\",\"attributes\":{\"url\":\"https://cdn.holoviz.org/panel/1.1.1/dist/bundled/theme/default.css\"}},{\"type\":\"object\",\"name\":\"ImportedStyleSheet\",\"id\":\"p28922\",\"attributes\":{\"url\":\"https://cdn.holoviz.org/panel/1.1.1/dist/bundled/theme/native.css\"}}],\"min_width\":700,\"margin\":0,\"sizing_mode\":\"stretch_width\",\"align\":\"start\",\"children\":[{\"type\":\"object\",\"name\":\"Spacer\",\"id\":\"p28924\",\"attributes\":{\"name\":\"HSpacer269074\",\"stylesheets\":[\"\\n:host(.pn-loading.pn-arc):before, .pn-loading.pn-arc:before {\\n  background-image: url(\\\"data:image/svg+xml;base64,PHN2ZyB4bWxucz0iaHR0cDovL3d3dy53My5vcmcvMjAwMC9zdmciIHN0eWxlPSJtYXJnaW46IGF1dG87IGJhY2tncm91bmQ6IG5vbmU7IGRpc3BsYXk6IGJsb2NrOyBzaGFwZS1yZW5kZXJpbmc6IGF1dG87IiB2aWV3Qm94PSIwIDAgMTAwIDEwMCIgcHJlc2VydmVBc3BlY3RSYXRpbz0ieE1pZFlNaWQiPiAgPGNpcmNsZSBjeD0iNTAiIGN5PSI1MCIgZmlsbD0ibm9uZSIgc3Ryb2tlPSIjYzNjM2MzIiBzdHJva2Utd2lkdGg9IjEwIiByPSIzNSIgc3Ryb2tlLWRhc2hhcnJheT0iMTY0LjkzMzYxNDMxMzQ2NDE1IDU2Ljk3Nzg3MTQzNzgyMTM4Ij4gICAgPGFuaW1hdGVUcmFuc2Zvcm0gYXR0cmlidXRlTmFtZT0idHJhbnNmb3JtIiB0eXBlPSJyb3RhdGUiIHJlcGVhdENvdW50PSJpbmRlZmluaXRlIiBkdXI9IjFzIiB2YWx1ZXM9IjAgNTAgNTA7MzYwIDUwIDUwIiBrZXlUaW1lcz0iMDsxIj48L2FuaW1hdGVUcmFuc2Zvcm0+ICA8L2NpcmNsZT48L3N2Zz4=\\\");\\n  background-size: auto calc(min(50%, 400px));\\n}\",{\"id\":\"p28923\"},{\"id\":\"p28921\"},{\"id\":\"p28922\"}],\"margin\":0,\"sizing_mode\":\"stretch_width\",\"align\":\"start\"}},{\"type\":\"object\",\"name\":\"Figure\",\"id\":\"p28930\",\"attributes\":{\"width\":700,\"height\":400,\"margin\":[5,10],\"sizing_mode\":\"fixed\",\"align\":\"start\",\"x_range\":{\"type\":\"object\",\"name\":\"Range1d\",\"id\":\"p28925\",\"attributes\":{\"tags\":[[[\"Date\",\"Date\",null]],[]],\"start\":1588291200000.0,\"end\":1590966000000.0,\"reset_start\":1588291200000.0,\"reset_end\":1590966000000.0}},\"y_range\":{\"type\":\"object\",\"name\":\"Range1d\",\"id\":\"p28926\",\"attributes\":{\"tags\":[[[\"Search Trends\",\"Search Trends\",null]],{\"type\":\"map\",\"entries\":[[\"invert_yaxis\",false],[\"autorange\",false]]}],\"start\":-5.9,\"end\":136.9,\"reset_start\":-5.9,\"reset_end\":136.9}},\"x_scale\":{\"type\":\"object\",\"name\":\"LinearScale\",\"id\":\"p28942\"},\"y_scale\":{\"type\":\"object\",\"name\":\"LinearScale\",\"id\":\"p28943\"},\"title\":{\"type\":\"object\",\"name\":\"Title\",\"id\":\"p28933\",\"attributes\":{\"text\":\"MercadoLibre Google Search Trend\",\"text_color\":\"black\",\"text_font_size\":\"12pt\"}},\"renderers\":[{\"type\":\"object\",\"name\":\"GlyphRenderer\",\"id\":\"p29018\",\"attributes\":{\"data_source\":{\"type\":\"object\",\"name\":\"ColumnDataSource\",\"id\":\"p29008\",\"attributes\":{\"selected\":{\"type\":\"object\",\"name\":\"Selection\",\"id\":\"p29009\",\"attributes\":{\"indices\":[],\"line_indices\":[]}},\"selection_policy\":{\"type\":\"object\",\"name\":\"UnionRenderers\",\"id\":\"p29010\"},\"data\":{\"type\":\"map\",\"entries\":[[\"Date\",{\"type\":\"ndarray\",\"array\":{\"type\":\"bytes\",\"data\":\"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\"},\"shape\":[744],\"dtype\":\"float64\",\"order\":\"little\"}],[\"Search Trends\",{\"type\":\"ndarray\",\"array\":{\"type\":\"bytes\",\"data\":\"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\"},\"shape\":[744],\"dtype\":\"int32\",\"order\":\"little\"}],[\"Search_Trends\",{\"type\":\"ndarray\",\"array\":{\"type\":\"bytes\",\"data\":\"UAAAAFAAAABMAAAAQgAAADUAAAAhAAAAEwAAAAwAAAAIAAAABgAAAAkAAAANAAAAFQAAAB4AAAAmAAAAKQAAAC0AAAAyAAAANQAAADYAAAA8AAAARAAAAFMAAABZAAAAWAAAAFUAAABQAAAARQAAADgAAAAkAAAAFgAAAA0AAAAIAAAABwAAAAkAAAAQAAAAGQAAACQAAAAtAAAAMwAAADcAAAA5AAAAOgAAAD4AAABBAAAASAAAAFYAAABbAAAAVwAAAFIAAABOAAAASAAAADcAAAAmAAAAGAAAAA4AAAAJAAAABwAAAAgAAAANAAAAFgAAAB8AAAAnAAAALQAAADIAAAA2AAAAOQAAAD0AAABCAAAATQAAAFoAAABeAAAAWQAAAFQAAABOAAAARAAAADMAAAAgAAAAEgAAAAsAAAAHAAAABgAAAAkAAAASAAAAHQAAACgAAAAwAAAAOAAAADoAAAA8AAAAPgAAAEMAAABHAAAAUwAAAF8AAABiAAAAdwAAAG4AAABnAAAAWQAAAEcAAAAsAAAAFwAAAA0AAAAJAAAACQAAAA0AAAAYAAAAJgAAADEAAAA9AAAAQgAAAEYAAABMAAAATwAAAFQAAABdAAAAaQAAAHwAAAB9AAAAYgAAAFwAAABXAAAASgAAADoAAAAhAAAAEgAAAAoAAAAHAAAACAAAAAsAAAAUAAAAIAAAACwAAAAzAAAAOQAAADkAAAA8AAAAPQAAAEEAAABFAAAATwAAAF4AAABhAAAAXwAAAFgAAABVAAAARwAAADQAAAAhAAAAEgAAAAsAAAAIAAAACAAAAAwAAAAUAAAAIAAAACoAAAAwAAAANgAAADgAAAA6AAAAPgAAAEAAAABGAAAAUAAAAFwAAABeAAAAXQAAAFkAAABTAAAARgAAADIAAAAgAAAAEQAAAAsAAAAIAAAACAAAAAwAAAAVAAAAIgAAACsAAAAzAAAANgAAADoAAAA6AAAAPQAAAEAAAABBAAAASgAAAFkAAABaAAAAVgAAAFMAAABQAAAARAAAADYAAAAhAAAAEwAAAAwAAAAIAAAACAAAAAoAAAASAAAAHQAAACYAAAAvAAAAMwAAADYAAAA4AAAAOgAAADoAAAA+AAAARQAAAFQAAABZAAAAUwAAAFAAAABKAAAAQwAAADMAAAAkAAAAFQAAAAwAAAAIAAAABwAAAAcAAAAMAAAAFQAAABwAAAAjAAAAKQAAACsAAAAuAAAAMgAAADUAAAA6AAAARwAAAFUAAABaAAAAVQAAAFMAAABNAAAAQAAAADEAAAAeAAAAEgAAAAsAAAAHAAAABwAAAAkAAAASAAAAHQAAACcAAAAvAAAANgAAADoAAAA9AAAAPwAAAEEAAABIAAAAUgAAAGEAAABiAAAAXwAAAFsAAABWAAAARgAAADQAAAAeAAAAEAAAAAoAAAAHAAAABgAAAAsAAAAUAAAAHwAAACcAAAAyAAAANgAAADgAAAA8AAAAPgAAAEIAAABIAAAAUwAAAF4AAABkAAAAXwAAAFwAAABWAAAARgAAADMAAAAfAAAAEQAAAAoAAAAHAAAABwAAAAoAAAAUAAAAIQAAACsAAAAyAAAANwAAADoAAAA9AAAAQAAAAEQAAABIAAAAUgAAAF0AAABjAAAAXwAAAFkAAABVAAAARgAAADMAAAAeAAAAEQAAAAoAAAAHAAAABwAAAAoAAAAUAAAAIAAAACoAAAAyAAAANwAAADsAAAA9AAAAPwAAAEAAAABHAAAAUQAAAF4AAABhAAAAXgAAAFoAAABUAAAARwAAADIAAAAfAAAAEQAAAAoAAAAHAAAABwAAAAsAAAAVAAAAIgAAACsAAAAyAAAANgAAADoAAAA8AAAAPAAAAEEAAABEAAAASwAAAFkAAABeAAAAXAAAAFgAAABUAAAARgAAADUAAAAjAAAAFQAAAAwAAAAJAAAACAAAAAsAAAATAAAAHwAAACcAAAAvAAAANAAAADcAAAA7AAAAPQAAAD4AAAA/AAAASQAAAFYAAABbAAAAVwAAAFUAAABRAAAASgAAADkAAAAlAAAAFwAAAA0AAAAJAAAACAAAAAkAAAAOAAAAFwAAACAAAAApAAAALwAAADUAAAA3AAAAOgAAAD0AAABBAAAATQAAAFwAAABgAAAAWwAAAFgAAABTAAAARQAAADIAAAAgAAAAEgAAAAoAAAAHAAAABwAAAAoAAAATAAAAIAAAACsAAAA0AAAAOQAAAD0AAAA/AAAAQgAAAEYAAABKAAAAUwAAAF8AAABkAAAAYAAAAF0AAABYAAAARgAAADEAAAAeAAAAEAAAAAoAAAAHAAAABwAAAAwAAAAVAAAAIAAAACwAAAAzAAAAOQAAADwAAABAAAAAQQAAAEQAAABIAAAAUgAAAF8AAABhAAAAYAAAAFgAAABRAAAARQAAADIAAAAgAAAAEQAAAAoAAAAIAAAABwAAAAsAAAAVAAAAIgAAACwAAAAxAAAANgAAADsAAAA8AAAAPgAAAEMAAABDAAAATgAAAFkAAABdAAAAWgAAAFcAAABSAAAARgAAADIAAAAeAAAAEAAAAAoAAAAHAAAACAAAAAsAAAAUAAAAIQAAACoAAAAzAAAANwAAADoAAAA9AAAAQAAAAEUAAABEAAAAUAAAAF0AAABeAAAAWgAAAFkAAABTAAAARwAAADUAAAAiAAAAEwAAAAsAAAAHAAAABwAAAAsAAAAVAAAAIAAAACsAAAAxAAAANwAAADkAAAA8AAAAPgAAAEIAAABGAAAATQAAAFoAAABdAAAAWwAAAFgAAABUAAAARgAAADUAAAAkAAAAFQAAAA0AAAAIAAAABwAAAAoAAAARAAAAHAAAACYAAAAtAAAAMgAAADUAAAA6AAAAOgAAAD0AAAA/AAAASQAAAFYAAABWAAAAVgAAAFIAAABQAAAARwAAADYAAAAkAAAAFgAAAA0AAAAIAAAABwAAAAgAAAANAAAAFwAAAB8AAAApAAAALwAAADQAAAA2AAAAOQAAAD0AAABCAAAATAAAAFsAAABjAAAAYQAAAFsAAABSAAAASgAAADQAAAAhAAAAEwAAAAsAAAAHAAAABgAAAAgAAAAOAAAAGAAAACIAAAArAAAAMwAAADcAAAA5AAAAPQAAAD8AAABEAAAATgAAAF4AAABiAAAAXwAAAFkAAABVAAAARAAAADQAAAAeAAAAEQAAAAkAAAAGAAAABgAAAAoAAAATAAAAHgAAACcAAAAwAAAANAAAADoAAAA8AAAAPgAAAD8AAABGAAAAUgAAAGIAAABkAAAAYAAAAF0AAABVAAAARQAAADEAAAAdAAAAEQAAAAkAAAAHAAAABwAAAAoAAAASAAAAHgAAACcAAAAwAAAANgAAADgAAAA9AAAAPgAAAD8AAABCAAAAUAAAAFwAAABjAAAAXwAAAFsAAABVAAAARgAAADAAAAAdAAAAEAAAAAoAAAAHAAAABwAAAAoAAAASAAAAHAAAACcAAAAvAAAANgAAADgAAAA8AAAAPQAAAEEAAABEAAAATAAAAF0AAABhAAAAXwAAAFwAAABTAAAAQwAAADEAAAAeAAAAEAAAAAoAAAAHAAAABwAAAAsAAAATAAAAHgAAACgAAAAvAAAANAAAADYAAAA5AAAAPAAAAD8AAABCAAAASQAAAFcAAABeAAAAWwAAAFYAAABSAAAARQAAADIAAAAhAAAAFAAAAAwAAAAIAAAACAAAAAoAAAARAAAAGwAAACYAAAAuAAAAMwAAADcAAAA5AAAAOwAAADgAAABAAAAASAAAAFgAAABeAAAAWgAAAFQAAABQAAAARQAAADUAAAAjAAAAFgAAAA0AAAAIAAAABwAAAAgAAAANAAAAFQAAACAAAAAoAAAALwAAADQAAAAzAAAAOQAAADsAAABAAAAATAAAAFoAAABgAAAA\"},\"shape\":[744],\"dtype\":\"int32\",\"order\":\"little\"}]]}}},\"view\":{\"type\":\"object\",\"name\":\"CDSView\",\"id\":\"p29019\",\"attributes\":{\"filter\":{\"type\":\"object\",\"name\":\"AllIndices\",\"id\":\"p29020\"}}},\"glyph\":{\"type\":\"object\",\"name\":\"Line\",\"id\":\"p29015\",\"attributes\":{\"tags\":[\"apply_ranges\"],\"x\":{\"type\":\"field\",\"field\":\"Date\"},\"y\":{\"type\":\"field\",\"field\":\"Search Trends\"},\"line_color\":\"#30a2da\",\"line_width\":2}},\"selection_glyph\":{\"type\":\"object\",\"name\":\"Line\",\"id\":\"p29021\",\"attributes\":{\"tags\":[\"apply_ranges\"],\"x\":{\"type\":\"field\",\"field\":\"Date\"},\"y\":{\"type\":\"field\",\"field\":\"Search Trends\"},\"line_color\":\"#30a2da\",\"line_width\":2}},\"nonselection_glyph\":{\"type\":\"object\",\"name\":\"Line\",\"id\":\"p29016\",\"attributes\":{\"tags\":[\"apply_ranges\"],\"x\":{\"type\":\"field\",\"field\":\"Date\"},\"y\":{\"type\":\"field\",\"field\":\"Search Trends\"},\"line_color\":\"#30a2da\",\"line_alpha\":0.1,\"line_width\":2}},\"muted_glyph\":{\"type\":\"object\",\"name\":\"Line\",\"id\":\"p29017\",\"attributes\":{\"tags\":[\"apply_ranges\"],\"x\":{\"type\":\"field\",\"field\":\"Date\"},\"y\":{\"type\":\"field\",\"field\":\"Search Trends\"},\"line_color\":\"#30a2da\",\"line_alpha\":0.2,\"line_width\":2}}}}],\"toolbar\":{\"type\":\"object\",\"name\":\"Toolbar\",\"id\":\"p28939\",\"attributes\":{\"tools\":[{\"type\":\"object\",\"name\":\"HoverTool\",\"id\":\"p28929\",\"attributes\":{\"tags\":[\"hv_created\"],\"renderers\":[{\"id\":\"p29018\"}],\"tooltips\":[[\"Date\",\"@{Date}{%F %T}\"],[\"Search Trends\",\"@{Search_Trends}\"]],\"formatters\":{\"type\":\"map\",\"entries\":[[\"@{Date}\",\"datetime\"]]}}},{\"type\":\"object\",\"name\":\"SaveTool\",\"id\":\"p28994\"},{\"type\":\"object\",\"name\":\"PanTool\",\"id\":\"p28995\"},{\"type\":\"object\",\"name\":\"WheelZoomTool\",\"id\":\"p28996\"},{\"type\":\"object\",\"name\":\"BoxZoomTool\",\"id\":\"p28997\",\"attributes\":{\"overlay\":{\"type\":\"object\",\"name\":\"BoxAnnotation\",\"id\":\"p28998\",\"attributes\":{\"syncable\":false,\"level\":\"overlay\",\"visible\":false,\"left_units\":\"canvas\",\"right_units\":\"canvas\",\"bottom_units\":\"canvas\",\"top_units\":\"canvas\",\"line_color\":\"black\",\"line_alpha\":1.0,\"line_width\":2,\"line_dash\":[4,4],\"fill_color\":\"lightgrey\",\"fill_alpha\":0.5}}}},{\"type\":\"object\",\"name\":\"ResetTool\",\"id\":\"p28999\"}],\"active_drag\":{\"id\":\"p28995\"},\"active_scroll\":{\"id\":\"p28996\"}}},\"left\":[{\"type\":\"object\",\"name\":\"LinearAxis\",\"id\":\"p28987\",\"attributes\":{\"ticker\":{\"type\":\"object\",\"name\":\"BasicTicker\",\"id\":\"p28990\",\"attributes\":{\"mantissas\":[1,2,5]}},\"formatter\":{\"type\":\"object\",\"name\":\"BasicTickFormatter\",\"id\":\"p28988\"},\"axis_label\":\"Google Search Trend\",\"major_label_policy\":{\"type\":\"object\",\"name\":\"AllLabels\",\"id\":\"p28989\"}}}],\"below\":[{\"type\":\"object\",\"name\":\"DatetimeAxis\",\"id\":\"p28944\",\"attributes\":{\"ticker\":{\"type\":\"object\",\"name\":\"DatetimeTicker\",\"id\":\"p28947\",\"attributes\":{\"num_minor_ticks\":5,\"tickers\":[{\"type\":\"object\",\"name\":\"AdaptiveTicker\",\"id\":\"p28948\",\"attributes\":{\"num_minor_ticks\":0,\"mantissas\":[1,2,5],\"max_interval\":500.0}},{\"type\":\"object\",\"name\":\"AdaptiveTicker\",\"id\":\"p28949\",\"attributes\":{\"num_minor_ticks\":0,\"base\":60,\"mantissas\":[1,2,5,10,15,20,30],\"min_interval\":1000.0,\"max_interval\":1800000.0}},{\"type\":\"object\",\"name\":\"AdaptiveTicker\",\"id\":\"p28950\",\"attributes\":{\"num_minor_ticks\":0,\"base\":24,\"mantissas\":[1,2,4,6,8,12],\"min_interval\":3600000.0,\"max_interval\":43200000.0}},{\"type\":\"object\",\"name\":\"DaysTicker\",\"id\":\"p28951\",\"attributes\":{\"days\":[1,2,3,4,5,6,7,8,9,10,11,12,13,14,15,16,17,18,19,20,21,22,23,24,25,26,27,28,29,30,31]}},{\"type\":\"object\",\"name\":\"DaysTicker\",\"id\":\"p28952\",\"attributes\":{\"days\":[1,4,7,10,13,16,19,22,25,28]}},{\"type\":\"object\",\"name\":\"DaysTicker\",\"id\":\"p28953\",\"attributes\":{\"days\":[1,8,15,22]}},{\"type\":\"object\",\"name\":\"DaysTicker\",\"id\":\"p28954\",\"attributes\":{\"days\":[1,15]}},{\"type\":\"object\",\"name\":\"MonthsTicker\",\"id\":\"p28955\",\"attributes\":{\"months\":[0,1,2,3,4,5,6,7,8,9,10,11]}},{\"type\":\"object\",\"name\":\"MonthsTicker\",\"id\":\"p28956\",\"attributes\":{\"months\":[0,2,4,6,8,10]}},{\"type\":\"object\",\"name\":\"MonthsTicker\",\"id\":\"p28957\",\"attributes\":{\"months\":[0,4,8]}},{\"type\":\"object\",\"name\":\"MonthsTicker\",\"id\":\"p28958\",\"attributes\":{\"months\":[0,6]}},{\"type\":\"object\",\"name\":\"YearsTicker\",\"id\":\"p28959\"}]}},\"formatter\":{\"type\":\"object\",\"name\":\"DatetimeTickFormatter\",\"id\":\"p28945\"},\"axis_label\":\"Date\",\"major_label_policy\":{\"type\":\"object\",\"name\":\"AllLabels\",\"id\":\"p28946\"}}}],\"center\":[{\"type\":\"object\",\"name\":\"Grid\",\"id\":\"p28986\",\"attributes\":{\"axis\":{\"id\":\"p28944\"},\"grid_line_color\":null}},{\"type\":\"object\",\"name\":\"Grid\",\"id\":\"p28993\",\"attributes\":{\"dimension\":1,\"axis\":{\"id\":\"p28987\"},\"grid_line_color\":null}}],\"min_border_top\":10,\"min_border_bottom\":10,\"min_border_left\":10,\"min_border_right\":10,\"output_backend\":\"webgl\"}},{\"type\":\"object\",\"name\":\"Spacer\",\"id\":\"p29082\",\"attributes\":{\"name\":\"HSpacer269077\",\"stylesheets\":[\"\\n:host(.pn-loading.pn-arc):before, .pn-loading.pn-arc:before {\\n  background-image: url(\\\"data:image/svg+xml;base64,PHN2ZyB4bWxucz0iaHR0cDovL3d3dy53My5vcmcvMjAwMC9zdmciIHN0eWxlPSJtYXJnaW46IGF1dG87IGJhY2tncm91bmQ6IG5vbmU7IGRpc3BsYXk6IGJsb2NrOyBzaGFwZS1yZW5kZXJpbmc6IGF1dG87IiB2aWV3Qm94PSIwIDAgMTAwIDEwMCIgcHJlc2VydmVBc3BlY3RSYXRpbz0ieE1pZFlNaWQiPiAgPGNpcmNsZSBjeD0iNTAiIGN5PSI1MCIgZmlsbD0ibm9uZSIgc3Ryb2tlPSIjYzNjM2MzIiBzdHJva2Utd2lkdGg9IjEwIiByPSIzNSIgc3Ryb2tlLWRhc2hhcnJheT0iMTY0LjkzMzYxNDMxMzQ2NDE1IDU2Ljk3Nzg3MTQzNzgyMTM4Ij4gICAgPGFuaW1hdGVUcmFuc2Zvcm0gYXR0cmlidXRlTmFtZT0idHJhbnNmb3JtIiB0eXBlPSJyb3RhdGUiIHJlcGVhdENvdW50PSJpbmRlZmluaXRlIiBkdXI9IjFzIiB2YWx1ZXM9IjAgNTAgNTA7MzYwIDUwIDUwIiBrZXlUaW1lcz0iMDsxIj48L2FuaW1hdGVUcmFuc2Zvcm0+ICA8L2NpcmNsZT48L3N2Zz4=\\\");\\n  background-size: auto calc(min(50%, 400px));\\n}\",{\"id\":\"p28923\"},{\"id\":\"p28921\"},{\"id\":\"p28922\"}],\"margin\":0,\"sizing_mode\":\"stretch_width\",\"align\":\"start\"}}]}}],\"callbacks\":{\"type\":\"map\"}}};\n",
       "  var render_items = [{\"docid\":\"5058622a-fd87-4dec-accd-2b252b573349\",\"roots\":{\"p28920\":\"fcf38b3c-173d-4e4b-b747-3d0614ff9d87\"},\"root_ids\":[\"p28920\"]}];\n",
       "  var docs = Object.values(docs_json)\n",
       "  if (!docs) {\n",
       "    return\n",
       "  }\n",
       "  const py_version = docs[0].version.replace('rc', '-rc.').replace('.dev', '-dev.')\n",
       "  const is_dev = py_version.indexOf(\"+\") !== -1 || py_version.indexOf(\"-\") !== -1\n",
       "  function embed_document(root) {\n",
       "    var Bokeh = get_bokeh(root)\n",
       "    Bokeh.embed.embed_items_notebook(docs_json, render_items);\n",
       "    for (const render_item of render_items) {\n",
       "      for (const root_id of render_item.root_ids) {\n",
       "\tconst id_el = document.getElementById(root_id)\n",
       "\tif (id_el.children.length && (id_el.children[0].className === 'bk-root')) {\n",
       "\t  const root_el = id_el.children[0]\n",
       "\t  root_el.id = root_el.id + '-rendered'\n",
       "\t}\n",
       "      }\n",
       "    }\n",
       "  }\n",
       "  function get_bokeh(root) {\n",
       "    if (root.Bokeh === undefined) {\n",
       "      return null\n",
       "    } else if (root.Bokeh.version !== py_version && !is_dev) {\n",
       "      if (root.Bokeh.versions === undefined || !root.Bokeh.versions.has(py_version)) {\n",
       "\treturn null\n",
       "      }\n",
       "      return root.Bokeh.versions.get(py_version);\n",
       "    } else if (root.Bokeh.version === py_version) {\n",
       "      return root.Bokeh\n",
       "    }\n",
       "    return null\n",
       "  }\n",
       "  function is_loaded(root) {\n",
       "    var Bokeh = get_bokeh(root)\n",
       "    return (Bokeh != null && Bokeh.Panel !== undefined)\n",
       "  }\n",
       "  if (is_loaded(root)) {\n",
       "    embed_document(root);\n",
       "  } else {\n",
       "    var attempts = 0;\n",
       "    var timer = setInterval(function(root) {\n",
       "      if (is_loaded(root)) {\n",
       "        clearInterval(timer);\n",
       "        embed_document(root);\n",
       "      } else if (document.readyState == \"complete\") {\n",
       "        attempts++;\n",
       "        if (attempts > 200) {\n",
       "          clearInterval(timer);\n",
       "\t  var Bokeh = get_bokeh(root)\n",
       "\t  if (Bokeh == null || Bokeh.Panel == null) {\n",
       "            console.warn(\"Panel: ERROR: Unable to run Panel code because Bokeh or Panel library is missing\");\n",
       "\t  } else {\n",
       "\t    console.warn(\"Panel: WARNING: Attempting to render but not all required libraries could be resolved.\")\n",
       "\t    embed_document(root)\n",
       "\t  }\n",
       "        }\n",
       "      }\n",
       "    }, 25, root)\n",
       "  }\n",
       "})(window);</script>"
      ],
      "text/plain": [
       ":Curve   [Date]   (Search Trends)"
      ]
     },
     "metadata": {
      "application/vnd.holoviews_exec.v0+json": {
       "id": "p28920"
      }
     },
     "output_type": "display_data"
    }
   ],
   "source": [
    "# %%timeit\n",
    "# Collect execution time\n",
    "\n",
    "# Slicing DataFrame Method #1: Filter Notation\n",
    "\n",
    "# Slice the DataFrame to just the month of May 2020\n",
    "df_may_2020_m1 = df_mercado_trends[(df_mercado_trends.index >= '2020-05') & (df_mercado_trends.index < '2020-06')].copy()\n",
    "#print(df_may_2020_m1)\n",
    "\n",
    "# Use hvPlot to visualize the data for May 2020\n",
    "plot_may_2020_m1 = df_may_2020_m1.hvplot(xlabel='Date', ylabel='Google Search Trend', title='MercadoLibre Google Search Trend', \n",
    "                                         width=700, height=400)\n",
    "display(plot_may_2020_m1)"
   ]
  },
  {
   "cell_type": "code",
   "execution_count": 64,
   "metadata": {},
   "outputs": [
    {
     "data": {},
     "metadata": {},
     "output_type": "display_data"
    },
    {
     "data": {
      "application/vnd.holoviews_exec.v0+json": "",
      "text/html": [
       "<div id='p29863'>\n",
       "  <div id=\"c565b80e-16f0-4430-b27d-5e9869c9764a\" data-root-id=\"p29863\" style=\"display: contents;\"></div>\n",
       "</div>\n",
       "<script type=\"application/javascript\">(function(root) {\n",
       "  var docs_json = {\"5e5a1d44-e152-48a6-8613-1337ac8bb3a3\":{\"version\":\"3.1.1\",\"title\":\"Bokeh Application\",\"defs\":[{\"type\":\"model\",\"name\":\"ReactiveHTML1\"},{\"type\":\"model\",\"name\":\"FlexBox1\",\"properties\":[{\"name\":\"align_content\",\"kind\":\"Any\",\"default\":\"flex-start\"},{\"name\":\"align_items\",\"kind\":\"Any\",\"default\":\"flex-start\"},{\"name\":\"flex_direction\",\"kind\":\"Any\",\"default\":\"row\"},{\"name\":\"flex_wrap\",\"kind\":\"Any\",\"default\":\"wrap\"},{\"name\":\"justify_content\",\"kind\":\"Any\",\"default\":\"flex-start\"}]},{\"type\":\"model\",\"name\":\"FloatPanel1\",\"properties\":[{\"name\":\"config\",\"kind\":\"Any\",\"default\":{\"type\":\"map\"}},{\"name\":\"contained\",\"kind\":\"Any\",\"default\":true},{\"name\":\"position\",\"kind\":\"Any\",\"default\":\"right-top\"},{\"name\":\"offsetx\",\"kind\":\"Any\",\"default\":null},{\"name\":\"offsety\",\"kind\":\"Any\",\"default\":null},{\"name\":\"theme\",\"kind\":\"Any\",\"default\":\"primary\"},{\"name\":\"status\",\"kind\":\"Any\",\"default\":\"normalized\"}]},{\"type\":\"model\",\"name\":\"GridStack1\",\"properties\":[{\"name\":\"mode\",\"kind\":\"Any\",\"default\":\"warn\"},{\"name\":\"ncols\",\"kind\":\"Any\",\"default\":null},{\"name\":\"nrows\",\"kind\":\"Any\",\"default\":null},{\"name\":\"allow_resize\",\"kind\":\"Any\",\"default\":true},{\"name\":\"allow_drag\",\"kind\":\"Any\",\"default\":true},{\"name\":\"state\",\"kind\":\"Any\",\"default\":[]}]},{\"type\":\"model\",\"name\":\"drag1\",\"properties\":[{\"name\":\"slider_width\",\"kind\":\"Any\",\"default\":5},{\"name\":\"slider_color\",\"kind\":\"Any\",\"default\":\"black\"},{\"name\":\"value\",\"kind\":\"Any\",\"default\":50}]},{\"type\":\"model\",\"name\":\"click1\",\"properties\":[{\"name\":\"terminal_output\",\"kind\":\"Any\",\"default\":\"\"},{\"name\":\"debug_name\",\"kind\":\"Any\",\"default\":\"\"},{\"name\":\"clears\",\"kind\":\"Any\",\"default\":0}]},{\"type\":\"model\",\"name\":\"FastWrapper1\",\"properties\":[{\"name\":\"object\",\"kind\":\"Any\",\"default\":null},{\"name\":\"style\",\"kind\":\"Any\",\"default\":null}]},{\"type\":\"model\",\"name\":\"NotificationAreaBase1\",\"properties\":[{\"name\":\"position\",\"kind\":\"Any\",\"default\":\"bottom-right\"},{\"name\":\"_clear\",\"kind\":\"Any\",\"default\":0}]},{\"type\":\"model\",\"name\":\"NotificationArea1\",\"properties\":[{\"name\":\"notifications\",\"kind\":\"Any\",\"default\":[]},{\"name\":\"position\",\"kind\":\"Any\",\"default\":\"bottom-right\"},{\"name\":\"_clear\",\"kind\":\"Any\",\"default\":0},{\"name\":\"types\",\"kind\":\"Any\",\"default\":[{\"type\":\"map\",\"entries\":[[\"type\",\"warning\"],[\"background\",\"#ffc107\"],[\"icon\",{\"type\":\"map\",\"entries\":[[\"className\",\"fas fa-exclamation-triangle\"],[\"tagName\",\"i\"],[\"color\",\"white\"]]}]]},{\"type\":\"map\",\"entries\":[[\"type\",\"info\"],[\"background\",\"#007bff\"],[\"icon\",{\"type\":\"map\",\"entries\":[[\"className\",\"fas fa-info-circle\"],[\"tagName\",\"i\"],[\"color\",\"white\"]]}]]}]}]},{\"type\":\"model\",\"name\":\"Notification\",\"properties\":[{\"name\":\"background\",\"kind\":\"Any\",\"default\":null},{\"name\":\"duration\",\"kind\":\"Any\",\"default\":3000},{\"name\":\"icon\",\"kind\":\"Any\",\"default\":null},{\"name\":\"message\",\"kind\":\"Any\",\"default\":\"\"},{\"name\":\"notification_type\",\"kind\":\"Any\",\"default\":null},{\"name\":\"_destroyed\",\"kind\":\"Any\",\"default\":false}]},{\"type\":\"model\",\"name\":\"TemplateActions1\",\"properties\":[{\"name\":\"open_modal\",\"kind\":\"Any\",\"default\":0},{\"name\":\"close_modal\",\"kind\":\"Any\",\"default\":0}]},{\"type\":\"model\",\"name\":\"BootstrapTemplateActions1\",\"properties\":[{\"name\":\"open_modal\",\"kind\":\"Any\",\"default\":0},{\"name\":\"close_modal\",\"kind\":\"Any\",\"default\":0}]},{\"type\":\"model\",\"name\":\"MaterialTemplateActions1\",\"properties\":[{\"name\":\"open_modal\",\"kind\":\"Any\",\"default\":0},{\"name\":\"close_modal\",\"kind\":\"Any\",\"default\":0}]}],\"roots\":[{\"type\":\"object\",\"name\":\"Row\",\"id\":\"p29863\",\"attributes\":{\"name\":\"Row269654\",\"tags\":[\"embedded\"],\"stylesheets\":[\"\\n:host(.pn-loading.pn-arc):before, .pn-loading.pn-arc:before {\\n  background-image: url(\\\"data:image/svg+xml;base64,PHN2ZyB4bWxucz0iaHR0cDovL3d3dy53My5vcmcvMjAwMC9zdmciIHN0eWxlPSJtYXJnaW46IGF1dG87IGJhY2tncm91bmQ6IG5vbmU7IGRpc3BsYXk6IGJsb2NrOyBzaGFwZS1yZW5kZXJpbmc6IGF1dG87IiB2aWV3Qm94PSIwIDAgMTAwIDEwMCIgcHJlc2VydmVBc3BlY3RSYXRpbz0ieE1pZFlNaWQiPiAgPGNpcmNsZSBjeD0iNTAiIGN5PSI1MCIgZmlsbD0ibm9uZSIgc3Ryb2tlPSIjYzNjM2MzIiBzdHJva2Utd2lkdGg9IjEwIiByPSIzNSIgc3Ryb2tlLWRhc2hhcnJheT0iMTY0LjkzMzYxNDMxMzQ2NDE1IDU2Ljk3Nzg3MTQzNzgyMTM4Ij4gICAgPGFuaW1hdGVUcmFuc2Zvcm0gYXR0cmlidXRlTmFtZT0idHJhbnNmb3JtIiB0eXBlPSJyb3RhdGUiIHJlcGVhdENvdW50PSJpbmRlZmluaXRlIiBkdXI9IjFzIiB2YWx1ZXM9IjAgNTAgNTA7MzYwIDUwIDUwIiBrZXlUaW1lcz0iMDsxIj48L2FuaW1hdGVUcmFuc2Zvcm0+ICA8L2NpcmNsZT48L3N2Zz4=\\\");\\n  background-size: auto calc(min(50%, 400px));\\n}\",{\"type\":\"object\",\"name\":\"ImportedStyleSheet\",\"id\":\"p29866\",\"attributes\":{\"url\":\"https://cdn.holoviz.org/panel/1.1.1/dist/css/loading.css\"}},{\"type\":\"object\",\"name\":\"ImportedStyleSheet\",\"id\":\"p30027\",\"attributes\":{\"url\":\"https://cdn.holoviz.org/panel/1.1.1/dist/css/listpanel.css\"}},{\"type\":\"object\",\"name\":\"ImportedStyleSheet\",\"id\":\"p29864\",\"attributes\":{\"url\":\"https://cdn.holoviz.org/panel/1.1.1/dist/bundled/theme/default.css\"}},{\"type\":\"object\",\"name\":\"ImportedStyleSheet\",\"id\":\"p29865\",\"attributes\":{\"url\":\"https://cdn.holoviz.org/panel/1.1.1/dist/bundled/theme/native.css\"}}],\"min_width\":700,\"margin\":0,\"sizing_mode\":\"stretch_width\",\"align\":\"start\",\"children\":[{\"type\":\"object\",\"name\":\"Spacer\",\"id\":\"p29867\",\"attributes\":{\"name\":\"HSpacer269665\",\"stylesheets\":[\"\\n:host(.pn-loading.pn-arc):before, .pn-loading.pn-arc:before {\\n  background-image: url(\\\"data:image/svg+xml;base64,PHN2ZyB4bWxucz0iaHR0cDovL3d3dy53My5vcmcvMjAwMC9zdmciIHN0eWxlPSJtYXJnaW46IGF1dG87IGJhY2tncm91bmQ6IG5vbmU7IGRpc3BsYXk6IGJsb2NrOyBzaGFwZS1yZW5kZXJpbmc6IGF1dG87IiB2aWV3Qm94PSIwIDAgMTAwIDEwMCIgcHJlc2VydmVBc3BlY3RSYXRpbz0ieE1pZFlNaWQiPiAgPGNpcmNsZSBjeD0iNTAiIGN5PSI1MCIgZmlsbD0ibm9uZSIgc3Ryb2tlPSIjYzNjM2MzIiBzdHJva2Utd2lkdGg9IjEwIiByPSIzNSIgc3Ryb2tlLWRhc2hhcnJheT0iMTY0LjkzMzYxNDMxMzQ2NDE1IDU2Ljk3Nzg3MTQzNzgyMTM4Ij4gICAgPGFuaW1hdGVUcmFuc2Zvcm0gYXR0cmlidXRlTmFtZT0idHJhbnNmb3JtIiB0eXBlPSJyb3RhdGUiIHJlcGVhdENvdW50PSJpbmRlZmluaXRlIiBkdXI9IjFzIiB2YWx1ZXM9IjAgNTAgNTA7MzYwIDUwIDUwIiBrZXlUaW1lcz0iMDsxIj48L2FuaW1hdGVUcmFuc2Zvcm0+ICA8L2NpcmNsZT48L3N2Zz4=\\\");\\n  background-size: auto calc(min(50%, 400px));\\n}\",{\"id\":\"p29866\"},{\"id\":\"p29864\"},{\"id\":\"p29865\"}],\"margin\":0,\"sizing_mode\":\"stretch_width\",\"align\":\"start\"}},{\"type\":\"object\",\"name\":\"Figure\",\"id\":\"p29873\",\"attributes\":{\"width\":700,\"height\":400,\"margin\":[5,10],\"sizing_mode\":\"fixed\",\"align\":\"start\",\"x_range\":{\"type\":\"object\",\"name\":\"Range1d\",\"id\":\"p29868\",\"attributes\":{\"tags\":[[[\"Date\",\"Date\",null]],[]],\"start\":1588291200000.0,\"end\":1590966000000.0,\"reset_start\":1588291200000.0,\"reset_end\":1590966000000.0}},\"y_range\":{\"type\":\"object\",\"name\":\"Range1d\",\"id\":\"p29869\",\"attributes\":{\"tags\":[[[\"Search Trends\",\"Search Trends\",null]],{\"type\":\"map\",\"entries\":[[\"invert_yaxis\",false],[\"autorange\",false]]}],\"start\":-5.9,\"end\":136.9,\"reset_start\":-5.9,\"reset_end\":136.9}},\"x_scale\":{\"type\":\"object\",\"name\":\"LinearScale\",\"id\":\"p29885\"},\"y_scale\":{\"type\":\"object\",\"name\":\"LinearScale\",\"id\":\"p29886\"},\"title\":{\"type\":\"object\",\"name\":\"Title\",\"id\":\"p29876\",\"attributes\":{\"text\":\"MercadoLibre Google Search Trend\",\"text_color\":\"black\",\"text_font_size\":\"12pt\"}},\"renderers\":[{\"type\":\"object\",\"name\":\"GlyphRenderer\",\"id\":\"p29961\",\"attributes\":{\"data_source\":{\"type\":\"object\",\"name\":\"ColumnDataSource\",\"id\":\"p29951\",\"attributes\":{\"selected\":{\"type\":\"object\",\"name\":\"Selection\",\"id\":\"p29952\",\"attributes\":{\"indices\":[],\"line_indices\":[]}},\"selection_policy\":{\"type\":\"object\",\"name\":\"UnionRenderers\",\"id\":\"p29953\"},\"data\":{\"type\":\"map\",\"entries\":[[\"Date\",{\"type\":\"ndarray\",\"array\":{\"type\":\"bytes\",\"data\":\"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\"},\"shape\":[744],\"dtype\":\"float64\",\"order\":\"little\"}],[\"Search Trends\",{\"type\":\"ndarray\",\"array\":{\"type\":\"bytes\",\"data\":\"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\"},\"shape\":[744],\"dtype\":\"int32\",\"order\":\"little\"}],[\"Search_Trends\",{\"type\":\"ndarray\",\"array\":{\"type\":\"bytes\",\"data\":\"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\"},\"shape\":[744],\"dtype\":\"int32\",\"order\":\"little\"}]]}}},\"view\":{\"type\":\"object\",\"name\":\"CDSView\",\"id\":\"p29962\",\"attributes\":{\"filter\":{\"type\":\"object\",\"name\":\"AllIndices\",\"id\":\"p29963\"}}},\"glyph\":{\"type\":\"object\",\"name\":\"Line\",\"id\":\"p29958\",\"attributes\":{\"tags\":[\"apply_ranges\"],\"x\":{\"type\":\"field\",\"field\":\"Date\"},\"y\":{\"type\":\"field\",\"field\":\"Search Trends\"},\"line_color\":\"#30a2da\",\"line_width\":2}},\"selection_glyph\":{\"type\":\"object\",\"name\":\"Line\",\"id\":\"p29964\",\"attributes\":{\"tags\":[\"apply_ranges\"],\"x\":{\"type\":\"field\",\"field\":\"Date\"},\"y\":{\"type\":\"field\",\"field\":\"Search Trends\"},\"line_color\":\"#30a2da\",\"line_width\":2}},\"nonselection_glyph\":{\"type\":\"object\",\"name\":\"Line\",\"id\":\"p29959\",\"attributes\":{\"tags\":[\"apply_ranges\"],\"x\":{\"type\":\"field\",\"field\":\"Date\"},\"y\":{\"type\":\"field\",\"field\":\"Search Trends\"},\"line_color\":\"#30a2da\",\"line_alpha\":0.1,\"line_width\":2}},\"muted_glyph\":{\"type\":\"object\",\"name\":\"Line\",\"id\":\"p29960\",\"attributes\":{\"tags\":[\"apply_ranges\"],\"x\":{\"type\":\"field\",\"field\":\"Date\"},\"y\":{\"type\":\"field\",\"field\":\"Search Trends\"},\"line_color\":\"#30a2da\",\"line_alpha\":0.2,\"line_width\":2}}}}],\"toolbar\":{\"type\":\"object\",\"name\":\"Toolbar\",\"id\":\"p29882\",\"attributes\":{\"tools\":[{\"type\":\"object\",\"name\":\"HoverTool\",\"id\":\"p29872\",\"attributes\":{\"tags\":[\"hv_created\"],\"renderers\":[{\"id\":\"p29961\"}],\"tooltips\":[[\"Date\",\"@{Date}{%F %T}\"],[\"Search Trends\",\"@{Search_Trends}\"]],\"formatters\":{\"type\":\"map\",\"entries\":[[\"@{Date}\",\"datetime\"]]}}},{\"type\":\"object\",\"name\":\"SaveTool\",\"id\":\"p29937\"},{\"type\":\"object\",\"name\":\"PanTool\",\"id\":\"p29938\"},{\"type\":\"object\",\"name\":\"WheelZoomTool\",\"id\":\"p29939\"},{\"type\":\"object\",\"name\":\"BoxZoomTool\",\"id\":\"p29940\",\"attributes\":{\"overlay\":{\"type\":\"object\",\"name\":\"BoxAnnotation\",\"id\":\"p29941\",\"attributes\":{\"syncable\":false,\"level\":\"overlay\",\"visible\":false,\"left_units\":\"canvas\",\"right_units\":\"canvas\",\"bottom_units\":\"canvas\",\"top_units\":\"canvas\",\"line_color\":\"black\",\"line_alpha\":1.0,\"line_width\":2,\"line_dash\":[4,4],\"fill_color\":\"lightgrey\",\"fill_alpha\":0.5}}}},{\"type\":\"object\",\"name\":\"ResetTool\",\"id\":\"p29942\"}],\"active_drag\":{\"id\":\"p29938\"},\"active_scroll\":{\"id\":\"p29939\"}}},\"left\":[{\"type\":\"object\",\"name\":\"LinearAxis\",\"id\":\"p29930\",\"attributes\":{\"ticker\":{\"type\":\"object\",\"name\":\"BasicTicker\",\"id\":\"p29933\",\"attributes\":{\"mantissas\":[1,2,5]}},\"formatter\":{\"type\":\"object\",\"name\":\"BasicTickFormatter\",\"id\":\"p29931\"},\"axis_label\":\"Google Search Trend\",\"major_label_policy\":{\"type\":\"object\",\"name\":\"AllLabels\",\"id\":\"p29932\"}}}],\"below\":[{\"type\":\"object\",\"name\":\"DatetimeAxis\",\"id\":\"p29887\",\"attributes\":{\"ticker\":{\"type\":\"object\",\"name\":\"DatetimeTicker\",\"id\":\"p29890\",\"attributes\":{\"num_minor_ticks\":5,\"tickers\":[{\"type\":\"object\",\"name\":\"AdaptiveTicker\",\"id\":\"p29891\",\"attributes\":{\"num_minor_ticks\":0,\"mantissas\":[1,2,5],\"max_interval\":500.0}},{\"type\":\"object\",\"name\":\"AdaptiveTicker\",\"id\":\"p29892\",\"attributes\":{\"num_minor_ticks\":0,\"base\":60,\"mantissas\":[1,2,5,10,15,20,30],\"min_interval\":1000.0,\"max_interval\":1800000.0}},{\"type\":\"object\",\"name\":\"AdaptiveTicker\",\"id\":\"p29893\",\"attributes\":{\"num_minor_ticks\":0,\"base\":24,\"mantissas\":[1,2,4,6,8,12],\"min_interval\":3600000.0,\"max_interval\":43200000.0}},{\"type\":\"object\",\"name\":\"DaysTicker\",\"id\":\"p29894\",\"attributes\":{\"days\":[1,2,3,4,5,6,7,8,9,10,11,12,13,14,15,16,17,18,19,20,21,22,23,24,25,26,27,28,29,30,31]}},{\"type\":\"object\",\"name\":\"DaysTicker\",\"id\":\"p29895\",\"attributes\":{\"days\":[1,4,7,10,13,16,19,22,25,28]}},{\"type\":\"object\",\"name\":\"DaysTicker\",\"id\":\"p29896\",\"attributes\":{\"days\":[1,8,15,22]}},{\"type\":\"object\",\"name\":\"DaysTicker\",\"id\":\"p29897\",\"attributes\":{\"days\":[1,15]}},{\"type\":\"object\",\"name\":\"MonthsTicker\",\"id\":\"p29898\",\"attributes\":{\"months\":[0,1,2,3,4,5,6,7,8,9,10,11]}},{\"type\":\"object\",\"name\":\"MonthsTicker\",\"id\":\"p29899\",\"attributes\":{\"months\":[0,2,4,6,8,10]}},{\"type\":\"object\",\"name\":\"MonthsTicker\",\"id\":\"p29900\",\"attributes\":{\"months\":[0,4,8]}},{\"type\":\"object\",\"name\":\"MonthsTicker\",\"id\":\"p29901\",\"attributes\":{\"months\":[0,6]}},{\"type\":\"object\",\"name\":\"YearsTicker\",\"id\":\"p29902\"}]}},\"formatter\":{\"type\":\"object\",\"name\":\"DatetimeTickFormatter\",\"id\":\"p29888\"},\"axis_label\":\"Date\",\"major_label_policy\":{\"type\":\"object\",\"name\":\"AllLabels\",\"id\":\"p29889\"}}}],\"center\":[{\"type\":\"object\",\"name\":\"Grid\",\"id\":\"p29929\",\"attributes\":{\"axis\":{\"id\":\"p29887\"},\"grid_line_color\":null}},{\"type\":\"object\",\"name\":\"Grid\",\"id\":\"p29936\",\"attributes\":{\"dimension\":1,\"axis\":{\"id\":\"p29930\"},\"grid_line_color\":null}}],\"min_border_top\":10,\"min_border_bottom\":10,\"min_border_left\":10,\"min_border_right\":10,\"output_backend\":\"webgl\"}},{\"type\":\"object\",\"name\":\"Spacer\",\"id\":\"p30025\",\"attributes\":{\"name\":\"HSpacer269668\",\"stylesheets\":[\"\\n:host(.pn-loading.pn-arc):before, .pn-loading.pn-arc:before {\\n  background-image: url(\\\"data:image/svg+xml;base64,PHN2ZyB4bWxucz0iaHR0cDovL3d3dy53My5vcmcvMjAwMC9zdmciIHN0eWxlPSJtYXJnaW46IGF1dG87IGJhY2tncm91bmQ6IG5vbmU7IGRpc3BsYXk6IGJsb2NrOyBzaGFwZS1yZW5kZXJpbmc6IGF1dG87IiB2aWV3Qm94PSIwIDAgMTAwIDEwMCIgcHJlc2VydmVBc3BlY3RSYXRpbz0ieE1pZFlNaWQiPiAgPGNpcmNsZSBjeD0iNTAiIGN5PSI1MCIgZmlsbD0ibm9uZSIgc3Ryb2tlPSIjYzNjM2MzIiBzdHJva2Utd2lkdGg9IjEwIiByPSIzNSIgc3Ryb2tlLWRhc2hhcnJheT0iMTY0LjkzMzYxNDMxMzQ2NDE1IDU2Ljk3Nzg3MTQzNzgyMTM4Ij4gICAgPGFuaW1hdGVUcmFuc2Zvcm0gYXR0cmlidXRlTmFtZT0idHJhbnNmb3JtIiB0eXBlPSJyb3RhdGUiIHJlcGVhdENvdW50PSJpbmRlZmluaXRlIiBkdXI9IjFzIiB2YWx1ZXM9IjAgNTAgNTA7MzYwIDUwIDUwIiBrZXlUaW1lcz0iMDsxIj48L2FuaW1hdGVUcmFuc2Zvcm0+ICA8L2NpcmNsZT48L3N2Zz4=\\\");\\n  background-size: auto calc(min(50%, 400px));\\n}\",{\"id\":\"p29866\"},{\"id\":\"p29864\"},{\"id\":\"p29865\"}],\"margin\":0,\"sizing_mode\":\"stretch_width\",\"align\":\"start\"}}]}}],\"callbacks\":{\"type\":\"map\"}}};\n",
       "  var render_items = [{\"docid\":\"5e5a1d44-e152-48a6-8613-1337ac8bb3a3\",\"roots\":{\"p29863\":\"c565b80e-16f0-4430-b27d-5e9869c9764a\"},\"root_ids\":[\"p29863\"]}];\n",
       "  var docs = Object.values(docs_json)\n",
       "  if (!docs) {\n",
       "    return\n",
       "  }\n",
       "  const py_version = docs[0].version.replace('rc', '-rc.').replace('.dev', '-dev.')\n",
       "  const is_dev = py_version.indexOf(\"+\") !== -1 || py_version.indexOf(\"-\") !== -1\n",
       "  function embed_document(root) {\n",
       "    var Bokeh = get_bokeh(root)\n",
       "    Bokeh.embed.embed_items_notebook(docs_json, render_items);\n",
       "    for (const render_item of render_items) {\n",
       "      for (const root_id of render_item.root_ids) {\n",
       "\tconst id_el = document.getElementById(root_id)\n",
       "\tif (id_el.children.length && (id_el.children[0].className === 'bk-root')) {\n",
       "\t  const root_el = id_el.children[0]\n",
       "\t  root_el.id = root_el.id + '-rendered'\n",
       "\t}\n",
       "      }\n",
       "    }\n",
       "  }\n",
       "  function get_bokeh(root) {\n",
       "    if (root.Bokeh === undefined) {\n",
       "      return null\n",
       "    } else if (root.Bokeh.version !== py_version && !is_dev) {\n",
       "      if (root.Bokeh.versions === undefined || !root.Bokeh.versions.has(py_version)) {\n",
       "\treturn null\n",
       "      }\n",
       "      return root.Bokeh.versions.get(py_version);\n",
       "    } else if (root.Bokeh.version === py_version) {\n",
       "      return root.Bokeh\n",
       "    }\n",
       "    return null\n",
       "  }\n",
       "  function is_loaded(root) {\n",
       "    var Bokeh = get_bokeh(root)\n",
       "    return (Bokeh != null && Bokeh.Panel !== undefined)\n",
       "  }\n",
       "  if (is_loaded(root)) {\n",
       "    embed_document(root);\n",
       "  } else {\n",
       "    var attempts = 0;\n",
       "    var timer = setInterval(function(root) {\n",
       "      if (is_loaded(root)) {\n",
       "        clearInterval(timer);\n",
       "        embed_document(root);\n",
       "      } else if (document.readyState == \"complete\") {\n",
       "        attempts++;\n",
       "        if (attempts > 200) {\n",
       "          clearInterval(timer);\n",
       "\t  var Bokeh = get_bokeh(root)\n",
       "\t  if (Bokeh == null || Bokeh.Panel == null) {\n",
       "            console.warn(\"Panel: ERROR: Unable to run Panel code because Bokeh or Panel library is missing\");\n",
       "\t  } else {\n",
       "\t    console.warn(\"Panel: WARNING: Attempting to render but not all required libraries could be resolved.\")\n",
       "\t    embed_document(root)\n",
       "\t  }\n",
       "        }\n",
       "      }\n",
       "    }, 25, root)\n",
       "  }\n",
       "})(window);</script>"
      ],
      "text/plain": [
       ":Curve   [Date]   (Search Trends)"
      ]
     },
     "metadata": {
      "application/vnd.holoviews_exec.v0+json": {
       "id": "p29863"
      }
     },
     "output_type": "display_data"
    }
   ],
   "source": [
    "# %%timeit\n",
    "# Collect execution time\n",
    "# Note that following comparison of execution times between Method #1 above and Method #2 below for slicing dataframe, Method #2 appears\n",
    "# superior and is also syntactically simpler.\n",
    "\n",
    "# Slicing DataFrame Method #2: Loc Notation\n",
    "\n",
    "# Slice the DataFrame to just the month of May 2020\n",
    "df_may_2020_m2 = df_mercado_trends.loc['2020-05']\n",
    "#print(df_may_2020_m2.info())\n",
    "\n",
    "# Use hvPlot to visualize the data for May 2020\n",
    "plot_may_2020_m2 = df_may_2020_m2.hvplot(xlabel='Date', ylabel='Google Search Trend', title='MercadoLibre Google Search Trend', \n",
    "                                         width=700, height=400)\n",
    "display(plot_may_2020_m2)"
   ]
  },
  {
   "cell_type": "markdown",
   "metadata": {},
   "source": [
    "#### Step 2: Calculate the total search traffic for the month, and then compare the value to the monthly median across all months. Did the Google search traffic increase during the month that MercadoLibre released its financial results?"
   ]
  },
  {
   "cell_type": "code",
   "execution_count": 91,
   "metadata": {},
   "outputs": [
    {
     "name": "stdout",
     "output_type": "stream",
     "text": [
      "Search Trends    38181\n",
      "dtype: int64\n"
     ]
    }
   ],
   "source": [
    "# Calculate the sum of the total search traffic for May 2020\n",
    "traffic_may_2020 = df_may_2020_m2.sum()\n",
    "\n",
    "# View the traffic_may_2020 value\n",
    "print(traffic_may_2020)"
   ]
  },
  {
   "cell_type": "code",
   "execution_count": 95,
   "metadata": {},
   "outputs": [
    {
     "name": "stdout",
     "output_type": "stream",
     "text": [
      "Median Monthly Traffic is: 35172.5\n"
     ]
    }
   ],
   "source": [
    "# Calculate the monthly median search traffic across all months \n",
    "# Group the DataFrame by index year and then index month, chain the sum and then the median functions\n",
    "monthly_traffic = df_mercado_trends.groupby([df_mercado_trends.index.year, df_mercado_trends.index.month])['Search Trends'].sum()\n",
    "#print(monthly_traffic)\n",
    "median_monthly_traffic = monthly_traffic.median()\n",
    "\n",
    "# View the median_monthly_traffic value\n",
    "print(f\"Median Monthly Traffic is: {median_monthly_traffic}\")"
   ]
  },
  {
   "cell_type": "code",
   "execution_count": 114,
   "metadata": {},
   "outputs": [
    {
     "name": "stdout",
     "output_type": "stream",
     "text": [
      "Search traffic in May 2020 (38181) was 8.6% higher than the median monthly search traffic (35172.5) between June 2016 and September 2020.\n"
     ]
    }
   ],
   "source": [
    "# Compare the search traffic for the month of May 2020 to the overall monthly median value\n",
    "print(f\"Search traffic in May 2020 ({traffic_may_2020.values[0]}) was {((traffic_may_2020.values[0] / median_monthly_traffic)-1)*100:.1f}% \\\n",
    "higher than the median monthly search traffic ({median_monthly_traffic}) between June 2016 and September 2020.\")"
   ]
  },
  {
   "cell_type": "markdown",
   "metadata": {},
   "source": [
    "##### Answer the following question: "
   ]
  },
  {
   "cell_type": "markdown",
   "metadata": {},
   "source": [
    "**Question:** Did the Google search traffic increase during the month that MercadoLibre released its financial results?\n",
    "\n",
    "**Answer:** `Yes, it increased in May 2020 by 8.6% versus the monthly median traffic over the 4-year period beginning June 2016 and ending September 2020.`"
   ]
  },
  {
   "cell_type": "markdown",
   "metadata": {},
   "source": [
    "## Step 2: Mine the Search Traffic Data for Seasonality\n",
    "\n",
    "Marketing realizes that they can use the hourly search data, too. If they can track and predict interest in the company and its platform for any time of day, they can focus their marketing efforts around the times that have the most traffic. This will get a greater return on investment (ROI) from their marketing budget.\n",
    "\n",
    "To that end, you want to mine the search traffic data for predictable seasonal patterns of interest in the company. To do so, complete the following steps:\n",
    "\n",
    "1. Group the hourly search data to plot the average traffic by the day of the week (for example, Monday vs. Friday).\n",
    "\n",
    "2. Using hvPlot, visualize this traffic as a heatmap, referencing the `index.hour` as the x-axis and the `index.dayofweek` as the y-axis. Does any day-of-week effect that you observe concentrate in just a few hours of that day?\n",
    "\n",
    "3. Group the search data by the week of the year. Does the search traffic tend to increase during the winter holiday period (weeks 40 through 52)?\n"
   ]
  },
  {
   "cell_type": "markdown",
   "metadata": {},
   "source": [
    "#### Step 1: Group the hourly search data to plot the average traffic by the day of the week (for example, Monday vs. Friday)."
   ]
  },
  {
   "cell_type": "code",
   "execution_count": null,
   "metadata": {},
   "outputs": [],
   "source": [
    "# Holoviews extension to render hvPlots in Colab\n",
    "hv.extension('bokeh')\n",
    "\n",
    "# Group the hourly search data to plot (use hvPlot) the average traffic by the day of week \n",
    "# YOUR CODE HERE\n"
   ]
  },
  {
   "cell_type": "markdown",
   "metadata": {},
   "source": [
    "#### Step 2: Using hvPlot, visualize this traffic as a heatmap, referencing the `index.hour` as the x-axis and the `index.dayofweek` as the y-axis. Does any day-of-week effect that you observe concentrate in just a few hours of that day?"
   ]
  },
  {
   "cell_type": "code",
   "execution_count": null,
   "metadata": {},
   "outputs": [],
   "source": [
    "# Holoviews extension to render hvPlots in Colab\n",
    "hv.extension('bokeh')\n",
    "\n",
    "# Use hvPlot to visualize the hour of the day and day of week search traffic as a heatmap.\n",
    "# YOUR CODE HERE\n"
   ]
  },
  {
   "cell_type": "markdown",
   "metadata": {},
   "source": [
    "##### Answer the following question:"
   ]
  },
  {
   "cell_type": "markdown",
   "metadata": {},
   "source": [
    "**Question:** Does any day-of-week effect that you observe concentrate in just a few hours of that day?\n",
    "\n",
    "**Answer:** # YOUR ANSWER HERE"
   ]
  },
  {
   "cell_type": "markdown",
   "metadata": {},
   "source": [
    "#### Step 3: Group the search data by the week of the year. Does the search traffic tend to increase during the winter holiday period (weeks 40 through 52)?"
   ]
  },
  {
   "cell_type": "code",
   "execution_count": null,
   "metadata": {},
   "outputs": [],
   "source": [
    "# Holoviews extension to render hvPlots in Colab\n",
    "hv.extension('bokeh')\n",
    "\n",
    "# Group the hourly search data to plot (use hvPlot) the average traffic by the week of the year\n",
    "# YOUR CODE HERE"
   ]
  },
  {
   "cell_type": "markdown",
   "metadata": {},
   "source": [
    "##### Answer the following question:"
   ]
  },
  {
   "cell_type": "markdown",
   "metadata": {},
   "source": [
    "**Question:** Does the search traffic tend to increase during the winter holiday period (weeks 40 through 52)?\n",
    "\n",
    "**Answer:** # YOUR ANSWER HERE"
   ]
  },
  {
   "cell_type": "markdown",
   "metadata": {},
   "source": [
    "## Step 3: Relate the Search Traffic to Stock Price Patterns\n",
    "\n",
    "You mention your work on the search traffic data during a meeting with people in the finance group at the company. They want to know if any relationship between the search data and the company stock price exists, and they ask if you can investigate.\n",
    "\n",
    "To do so, complete the following steps:\n",
    "\n",
    "1. Read in and plot the stock price data. Concatenate the stock price data to the search data in a single DataFrame.\n",
    "\n",
    "2. Market events emerged during the year of 2020 that many companies found difficult. But, after the initial shock to global financial markets, new customers and revenue increased for e-commerce platforms. Slice the data to just the first half of 2020 (`2020-01` to `2020-06` in the DataFrame), and then use hvPlot to plot the data. Do both time series indicate a common trend that’s consistent with this narrative?\n",
    "\n",
    "3. Create a new column in the DataFrame named “Lagged Search Trends” that offsets, or shifts, the search traffic by one hour. Create two additional columns:\n",
    "\n",
    "    * “Stock Volatility”, which holds an exponentially weighted four-hour rolling average of the company’s stock volatility\n",
    "\n",
    "    * “Hourly Stock Return”, which holds the percent change of the company's stock price on an hourly basis\n",
    "\n",
    "4. Review the time series correlation, and then answer the following question: Does a predictable relationship exist between the lagged search traffic and the stock volatility or between the lagged search traffic and the stock price returns?\n"
   ]
  },
  {
   "cell_type": "markdown",
   "metadata": {},
   "source": [
    "#### Step 1: Read in and plot the stock price data. Concatenate the stock price data to the search data in a single DataFrame."
   ]
  },
  {
   "cell_type": "code",
   "execution_count": null,
   "metadata": {},
   "outputs": [],
   "source": [
    "# Upload the \"mercado_stock_price.csv\" file into Colab, then store in a Pandas DataFrame\n",
    "# Set the \"date\" column as the Datetime Index.\n",
    "from google.colab import files\n",
    "uploaded = files.upload()\n",
    "\n",
    "df_mercado_stock = # YOUR CODE HERE\n",
    "\n",
    "# View the first and last five rows of the DataFrame\n",
    "# YOUR CODE HERE\n"
   ]
  },
  {
   "cell_type": "code",
   "execution_count": null,
   "metadata": {},
   "outputs": [],
   "source": [
    "# Holoviews extension to render hvPlots in Colab\n",
    "hv.extension('bokeh')\n",
    "\n",
    "# Use hvPlot to visualize the closing price of the df_mercado_stock DataFrame\n",
    "# YOUR CODE HERE\n"
   ]
  },
  {
   "cell_type": "code",
   "execution_count": null,
   "metadata": {},
   "outputs": [],
   "source": [
    "# Concatenate the df_mercado_stock DataFrame with the df_mercado_trends DataFrame\n",
    "# Concatenate the DataFrame by columns (axis=1), and drop and rows with only one column of data\n",
    "mercado_stock_trends_df = # YOUR CODE HERE\n",
    "\n",
    "# View the first and last five rows of the DataFrame\n",
    "# YOUR CODE HERE\n"
   ]
  },
  {
   "cell_type": "markdown",
   "metadata": {},
   "source": [
    "#### Step 2: Market events emerged during the year of 2020 that many companies found difficult. But, after the initial shock to global financial markets, new customers and revenue increased for e-commerce platforms. Slice the data to just the first half of 2020 (`2020-01` to `2020-06` in the DataFrame), and then use hvPlot to plot the data. Do both time series indicate a common trend that’s consistent with this narrative?"
   ]
  },
  {
   "cell_type": "code",
   "execution_count": null,
   "metadata": {},
   "outputs": [],
   "source": [
    "# For the combined dataframe, slice to just the first half of 2020 (2020-01 through 2020-06) \n",
    "first_half_2020 = # YOUR CODE HERE\n",
    "\n",
    "# View the first and last five rows of first_half_2020 DataFrame\n",
    "# YOUR CODE HERE\n"
   ]
  },
  {
   "cell_type": "code",
   "execution_count": null,
   "metadata": {},
   "outputs": [],
   "source": [
    "# Holoviews extension to render hvPlots in Colab\n",
    "hv.extension('bokeh')\n",
    "\n",
    "# Use hvPlot to visualize the close and Search Trends data\n",
    "# Plot each column on a separate axes using the following syntax\n",
    "# `hvplot(shared_axes=False, subplots=True).cols(1)`\n",
    "# YOUR CODE HERE\n"
   ]
  },
  {
   "cell_type": "markdown",
   "metadata": {},
   "source": [
    "##### Answer the following question:"
   ]
  },
  {
   "cell_type": "markdown",
   "metadata": {},
   "source": [
    "**Question:** Do both time series indicate a common trend that’s consistent with this narrative?\n",
    "\n",
    "**Answer:** # YOUR ANSWER HERE"
   ]
  },
  {
   "cell_type": "markdown",
   "metadata": {},
   "source": [
    "#### Step 3: Create a new column in the DataFrame named “Lagged Search Trends” that offsets, or shifts, the search traffic by one hour. Create two additional columns:\n",
    "\n",
    "* “Stock Volatility”, which holds an exponentially weighted four-hour rolling average of the company’s stock volatility\n",
    "\n",
    "* “Hourly Stock Return”, which holds the percent change of the company's stock price on an hourly basis\n"
   ]
  },
  {
   "cell_type": "code",
   "execution_count": null,
   "metadata": {},
   "outputs": [],
   "source": [
    "# Create a new column in the mercado_stock_trends_df DataFrame called Lagged Search Trends\n",
    "# This column should shift the Search Trends information by one hour\n",
    "mercado_stock_trends_df['Lagged Search Trends'] = # YOUR CODE HERE\n"
   ]
  },
  {
   "cell_type": "code",
   "execution_count": null,
   "metadata": {},
   "outputs": [],
   "source": [
    "# Create a new column in the mercado_stock_trends_df DataFrame called Stock Volatility\n",
    "# This column should calculate the standard deviation of the closing stock price return data over a 4 period rolling window\n",
    "mercado_stock_trends_df['Stock Volatility'] = # YOUR CODE HERE\n"
   ]
  },
  {
   "cell_type": "code",
   "execution_count": null,
   "metadata": {},
   "outputs": [],
   "source": [
    "# Holoviews extension to render hvPlots in Colab\n",
    "hv.extension('bokeh')\n",
    "\n",
    "# Use hvPlot to visualize the stock volatility\n",
    "# YOUR CODE HERE\n"
   ]
  },
  {
   "cell_type": "markdown",
   "metadata": {},
   "source": [
    "**Solution Note:** Note how volatility spiked, and tended to stay high, during the first half of 2020. This is a common characteristic of volatility in stock returns worldwide: high volatility days tend to be followed by yet more high volatility days. When it rains, it pours."
   ]
  },
  {
   "cell_type": "code",
   "execution_count": null,
   "metadata": {},
   "outputs": [],
   "source": [
    "# Create a new column in the mercado_stock_trends_df DataFrame called Hourly Stock Return\n",
    "# This column should calculate hourly return percentage of the closing price\n",
    "mercado_stock_trends_df['Hourly Stock Return'] = # YOUR CODE HERE\n"
   ]
  },
  {
   "cell_type": "code",
   "execution_count": null,
   "metadata": {},
   "outputs": [],
   "source": [
    "# View the first and last five rows of the mercado_stock_trends_df DataFrame\n",
    "# YOUR CODE HERE\n"
   ]
  },
  {
   "cell_type": "markdown",
   "metadata": {},
   "source": [
    "#### Step 4: Review the time series correlation, and then answer the following question: Does a predictable relationship exist between the lagged search traffic and the stock volatility or between the lagged search traffic and the stock price returns?"
   ]
  },
  {
   "cell_type": "code",
   "execution_count": null,
   "metadata": {},
   "outputs": [],
   "source": [
    "# Construct correlation table of Stock Volatility, Lagged Search Trends, and Hourly Stock Return\n",
    "# YOUR CODE HERE\n"
   ]
  },
  {
   "cell_type": "markdown",
   "metadata": {},
   "source": [
    "##### Answer the following question:\n"
   ]
  },
  {
   "cell_type": "markdown",
   "metadata": {},
   "source": [
    "**Question:** Does a predictable relationship exist between the lagged search traffic and the stock volatility or between the lagged search traffic and the stock price returns?\n",
    "\n",
    "**Answer:** # YOUR ANSWER HERE"
   ]
  },
  {
   "cell_type": "markdown",
   "metadata": {},
   "source": [
    "## Step 4: Create a Time Series Model with Prophet\n",
    "\n",
    "Now, you need to produce a time series model that analyzes and forecasts patterns in the hourly search data. To do so, complete the following steps:\n",
    "\n",
    "1. Set up the Google search data for a Prophet forecasting model.\n",
    "\n",
    "2. After estimating the model, plot the forecast. How's the near-term forecast for the popularity of MercadoLibre?\n",
    "\n",
    "3. Plot the individual time series components of the model to answer the following questions:\n",
    "\n",
    "    * What time of day exhibits the greatest popularity?\n",
    "\n",
    "    * Which day of the week gets the most search traffic?\n",
    "\n",
    "    * What's the lowest point for search traffic in the calendar year?\n"
   ]
  },
  {
   "cell_type": "markdown",
   "metadata": {},
   "source": [
    "#### Step 1: Set up the Google search data for a Prophet forecasting model."
   ]
  },
  {
   "cell_type": "code",
   "execution_count": null,
   "metadata": {},
   "outputs": [],
   "source": [
    "# Using the df_mercado_trends DataFrame, reset the index so the date information is no longer the index\n",
    "mercado_prophet_df = # YOUR CODE HERE\n",
    "\n",
    "# Label the columns ds and y so that the syntax is recognized by Prophet\n",
    "# YOUR CODE HERE\n",
    "\n",
    "# Drop an NaN values from the prophet_df DataFrame\n",
    "mercado_prophet_df = # YOUR CODE HERE\n",
    "\n",
    "# View the first and last five rows of the mercado_prophet_df DataFrame\n",
    "# YOUR CODE HERE\n"
   ]
  },
  {
   "cell_type": "code",
   "execution_count": null,
   "metadata": {},
   "outputs": [],
   "source": [
    "# Call the Prophet function, store as an object\n",
    "model_mercado_trends = # YOUR CODE HERE\n"
   ]
  },
  {
   "cell_type": "code",
   "execution_count": null,
   "metadata": {},
   "outputs": [],
   "source": [
    "# Fit the time-series model.\n",
    "# YOUR CODE HERE\n"
   ]
  },
  {
   "cell_type": "code",
   "execution_count": null,
   "metadata": {},
   "outputs": [],
   "source": [
    "# Create a future dataframe to hold predictions\n",
    "# Make the prediction go out as far as 2000 hours (approx 80 days)\n",
    "future_mercado_trends = # YOUR CODE HERE\n",
    "\n",
    "# View the last five rows of the future_mercado_trends DataFrame\n",
    "# YOUR CODE HERE\n"
   ]
  },
  {
   "cell_type": "code",
   "execution_count": null,
   "metadata": {},
   "outputs": [],
   "source": [
    "# Make the predictions for the trend data using the future_mercado_trends DataFrame\n",
    "forecast_mercado_trends = # YOUR CODE HERE\n",
    "\n",
    "# Display the first five rows of the forecast_mercado_trends DataFrame\n",
    "# YOUR CODE HERE\n"
   ]
  },
  {
   "cell_type": "markdown",
   "metadata": {},
   "source": [
    "#### Step 2: After estimating the model, plot the forecast. How's the near-term forecast for the popularity of MercadoLibre?"
   ]
  },
  {
   "cell_type": "code",
   "execution_count": null,
   "metadata": {},
   "outputs": [],
   "source": [
    "# Plot the Prophet predictions for the Mercado trends data\n",
    "# YOUR CODE HERE"
   ]
  },
  {
   "cell_type": "markdown",
   "metadata": {},
   "source": [
    "##### Answer the following question:"
   ]
  },
  {
   "cell_type": "markdown",
   "metadata": {},
   "source": [
    "**Question:**  How's the near-term forecast for the popularity of MercadoLibre?\n",
    "\n",
    "**Answer:** # YOUR ANSWER HERE\n"
   ]
  },
  {
   "cell_type": "markdown",
   "metadata": {},
   "source": [
    "#### Step 3: Plot the individual time series components of the model to answer the following questions:\n",
    "\n",
    "* What time of day exhibits the greatest popularity?\n",
    "\n",
    "* Which day of the week gets the most search traffic?\n",
    "\n",
    "* What's the lowest point for search traffic in the calendar year?\n"
   ]
  },
  {
   "cell_type": "code",
   "execution_count": null,
   "metadata": {},
   "outputs": [],
   "source": [
    "# Set the index in the forecast_mercado_trends DataFrame to the ds datetime column\n",
    "forecast_mercado_trends = # YOUR CODE HERE\n",
    "\n",
    "# View the only the yhat,yhat_lower and yhat_upper columns from the DataFrame\n",
    "# YOUR CODE HERE\n"
   ]
  },
  {
   "cell_type": "markdown",
   "metadata": {},
   "source": [
    "Solutions Note: `yhat` represents the most likely (average) forecast, whereas `yhat_lower` and `yhat_upper` represents the worst and best case prediction (based on what are known as 95% confidence intervals)."
   ]
  },
  {
   "cell_type": "code",
   "execution_count": null,
   "metadata": {},
   "outputs": [],
   "source": [
    "# Holoviews extension to render hvPlots in Colab\n",
    "hv.extension('bokeh')\n",
    "\n",
    "# From the forecast_mercado_trends DataFrame, use hvPlot to visualize\n",
    "#  the yhat, yhat_lower, and yhat_upper columns over the last 2000 hours \n",
    "# YOUR CODE HERE\n"
   ]
  },
  {
   "cell_type": "code",
   "execution_count": null,
   "metadata": {},
   "outputs": [],
   "source": [
    "# Reset the index in the forecast_mercado_trends DataFrame\n",
    "forecast_mercado_trends = # YOUR CODE HERE\n",
    "\n",
    "# Use the plot_components function to visualize the forecast results \n",
    "# for the forecast_canada DataFrame \n",
    "figures_mercado_trends = # YOUR CODE HERE\n"
   ]
  },
  {
   "cell_type": "markdown",
   "metadata": {},
   "source": [
    "##### Answer the following questions:"
   ]
  },
  {
   "cell_type": "markdown",
   "metadata": {},
   "source": [
    "**Question:** What time of day exhibits the greatest popularity?\n",
    "\n",
    "**Answer:** # YOUR ANSWER HERE"
   ]
  },
  {
   "cell_type": "markdown",
   "metadata": {},
   "source": [
    "**Question:** Which day of week gets the most search traffic? \n",
    "   \n",
    "**Answer:** # YOUR ANSWER HERE"
   ]
  },
  {
   "cell_type": "markdown",
   "metadata": {},
   "source": [
    "**Question:** What's the lowest point for search traffic in the calendar year?\n",
    "\n",
    "**Answer:** # YOUR ANSWER HERE\n"
   ]
  },
  {
   "cell_type": "markdown",
   "metadata": {},
   "source": [
    "## Step 5 (Optional): Forecast Revenue by Using Time Series Models\n",
    "\n",
    "A few weeks after your initial analysis, the finance group follows up to find out if you can help them solve a different problem. Your fame as a growth analyst in the company continues to grow!\n",
    "\n",
    "Specifically, the finance group wants a forecast of the total sales for the next quarter. This will dramatically increase their ability to plan budgets and to help guide expectations for the company investors.\n",
    "\n",
    "To do so, complete the following steps:\n",
    "\n",
    "1. Read in the daily historical sales (that is, revenue) figures, and then apply a Prophet model to the data. The daily sales figures are quoted in millions of USD dollars.\n",
    "\n",
    "2. Interpret the model output to identify any seasonal patterns in the company's revenue. For example, what are the peak revenue days? (Mondays? Fridays? Something else?)\n",
    "\n",
    "3. Produce a sales forecast for the finance group. Give them a number for the expected total sales in the next quarter. Include the best- and worst-case scenarios to help them make better plans.\n",
    "\n",
    "\n"
   ]
  },
  {
   "cell_type": "markdown",
   "metadata": {},
   "source": [
    "#### Step 1: Read in the daily historical sales (that is, revenue) figures, and then apply a Prophet model to the data."
   ]
  },
  {
   "cell_type": "code",
   "execution_count": null,
   "metadata": {},
   "outputs": [],
   "source": [
    "# Upload the \"mercado_daily_revenue.csv\" file into Colab, then store in a Pandas DataFrame\n",
    "# Set the \"date\" column as the DatetimeIndex\n",
    "# Sales are quoted in millions of US dollars\n",
    "from google.colab import files\n",
    "uploaded = files.upload()\n",
    "\n",
    "df_mercado_sales = # YOUR CODE HERE\n",
    "\n",
    "# Review the DataFrame\n",
    "# YOUR CODE HERE\n"
   ]
  },
  {
   "cell_type": "code",
   "execution_count": null,
   "metadata": {},
   "outputs": [],
   "source": [
    "# Holoviews extension to render hvPlots in Colab\n",
    "hv.extension('bokeh')\n",
    "\n",
    "# Use hvPlot to visualize the daily sales figures \n",
    "# YOUR CODE HERE\n"
   ]
  },
  {
   "cell_type": "code",
   "execution_count": null,
   "metadata": {},
   "outputs": [],
   "source": [
    "# Apply a Facebook Prophet model to the data.\n",
    "\n",
    "# Set up the dataframe in the neccessary format:\n",
    "# Reset the index so that date becomes a column in the DataFrame\n",
    "mercado_sales_prophet_df = # YOUR CODE HERE\n",
    "\n",
    "# Adjust the columns names to the Prophet syntax\n",
    "mercado_sales_prophet_df.columns = # YOUR CODE HERE\n",
    "\n",
    "# Visualize the DataFrame\n",
    "# YOUR CODE HERE\n"
   ]
  },
  {
   "cell_type": "code",
   "execution_count": null,
   "metadata": {},
   "outputs": [],
   "source": [
    "# Create the model\n",
    "mercado_sales_prophet_model = # YOUR CODE HERE\n",
    "\n",
    "# Fit the model\n",
    "# YOUR CODE HERE\n"
   ]
  },
  {
   "cell_type": "code",
   "execution_count": null,
   "metadata": {},
   "outputs": [],
   "source": [
    "# Predict sales for 90 days (1 quarter) out into the future.\n",
    "\n",
    "# Start by making a future dataframe\n",
    "mercado_sales_prophet_future = # YOUR CODE HERE\n",
    "\n",
    "# Display the last five rows of the future DataFrame\n",
    "# YOUR CODE HERE\n"
   ]
  },
  {
   "cell_type": "code",
   "execution_count": null,
   "metadata": {},
   "outputs": [],
   "source": [
    "# Make predictions for the sales each day over the next quarter\n",
    "mercado_sales_prophet_forecast = # YOUR CODE HERE\n",
    "\n",
    "# Display the first 5 rows of the resulting DataFrame\n",
    "# YOUR CODE HERE\n"
   ]
  },
  {
   "cell_type": "markdown",
   "metadata": {},
   "source": [
    "#### Step 2: Interpret the model output to identify any seasonal patterns in the company's revenue. For example, what are the peak revenue days? (Mondays? Fridays? Something else?)"
   ]
  },
  {
   "cell_type": "code",
   "execution_count": null,
   "metadata": {},
   "outputs": [],
   "source": [
    "# Use the plot_components function to analyze seasonal patterns in the company's revenue\n",
    "# YOUR CODE HERE\n"
   ]
  },
  {
   "cell_type": "markdown",
   "metadata": {},
   "source": [
    "##### Answer the following question:"
   ]
  },
  {
   "cell_type": "markdown",
   "metadata": {},
   "source": [
    "**Question:** For example, what are the peak revenue days? (Mondays? Fridays? Something else?)\n",
    "\n",
    "**Answer:** # YOUR ANSWER HERE"
   ]
  },
  {
   "cell_type": "markdown",
   "metadata": {},
   "source": [
    "#### Step 3: Produce a sales forecast for the finance group. Give them a number for the expected total sales in the next quarter. Include the best- and worst-case scenarios to help them make better plans."
   ]
  },
  {
   "cell_type": "code",
   "execution_count": null,
   "metadata": {},
   "outputs": [],
   "source": [
    "# Plot the predictions for the Mercado sales\n",
    "# YOUR CODE HERE\n"
   ]
  },
  {
   "cell_type": "code",
   "execution_count": null,
   "metadata": {},
   "outputs": [],
   "source": [
    "# For the mercado_sales_prophet_forecast DataFrame, set the ds column as the DataFrame Index\n",
    "mercado_sales_prophet_forecast = # YOUR CODE HERE\n",
    "\n",
    "# Display the first and last five rows of the DataFrame\n",
    "# YOUR CODE HERE\n"
   ]
  },
  {
   "cell_type": "code",
   "execution_count": null,
   "metadata": {},
   "outputs": [],
   "source": [
    "# Produce a sales forecast for the finance division\n",
    "# giving them a number for expected total sales next quarter.\n",
    "# Provide best case (yhat_upper), worst case (yhat_lower), and most likely (yhat) scenarios.\n",
    "\n",
    "# Create a forecast_quarter Dataframe for the period 2020-07-01 to 2020-09-30\n",
    "# The DataFrame should include the columns yhat_upper, yhat_lower, and yhat\n",
    "mercado_sales_forecast_quarter = # YOUR CODE HERE\n",
    "\n",
    "# Update the column names for the forecast_quarter DataFrame\n",
    "# to match what the finance division is looking for \n",
    "mercado_sales_forecast_quarter = # YOUR CODE HERE\n",
    "\n",
    "# Review the last five rows of the DataFrame\n",
    "# YOUR CODE HERE\n"
   ]
  },
  {
   "cell_type": "code",
   "execution_count": null,
   "metadata": {},
   "outputs": [],
   "source": [
    "# Displayed the summed values for all the rows in the forecast_quarter DataFrame\n",
    "# YOUR CODE HERE\n"
   ]
  },
  {
   "cell_type": "markdown",
   "metadata": {},
   "source": [
    "### Based on the forecast information generated above, produce a sales forecast for the finance division, giving them a number for expected total sales next quarter. Include best and worst case scenarios, to better help the finance team plan.\n",
    "\n",
    "**Answer:** # YOUR ANSWER HERE"
   ]
  },
  {
   "cell_type": "code",
   "execution_count": null,
   "metadata": {},
   "outputs": [],
   "source": []
  }
 ],
 "metadata": {
  "kernelspec": {
   "display_name": "Python 3 (ipykernel)",
   "language": "python",
   "name": "python3"
  },
  "language_info": {
   "codemirror_mode": {
    "name": "ipython",
    "version": 3
   },
   "file_extension": ".py",
   "mimetype": "text/x-python",
   "name": "python",
   "nbconvert_exporter": "python",
   "pygments_lexer": "ipython3",
   "version": "3.10.12"
  }
 },
 "nbformat": 4,
 "nbformat_minor": 4
}
